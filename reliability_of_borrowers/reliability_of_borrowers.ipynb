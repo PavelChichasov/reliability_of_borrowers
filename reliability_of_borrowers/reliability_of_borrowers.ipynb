{
 "cells": [
  {
   "cell_type": "markdown",
   "id": "386f2ae7",
   "metadata": {
    "deletable": false,
    "editable": false,
    "id": "386f2ae7"
   },
   "source": [
    "# Исследование надежности заемщиков\n"
   ]
  },
  {
   "cell_type": "markdown",
   "id": "3185f5d7",
   "metadata": {},
   "source": [
    "**Описание проекта**\n",
    "\n",
    "Заказчик — кредитный отдел банка. Нужно разобраться, влияет ли семейное положение и количество детей клиента на факт погашения кредита в срок. Входные данные от банка — статистика о платёжеспособности клиентов.  \n",
    "Результаты исследования будут учтены при построении модели кредитного скоринга — специальной системы, которая оценивает способность потенциального заёмщика вернуть кредит банку.\n",
    "\n",
    "**Описание данных**\n",
    "\n",
    "* `children` — количество детей в семье  \n",
    "* `days_employed` — общий трудовой стаж в днях  \n",
    "* `dob_years` — возраст клиента в годах  \n",
    "* `education` — уровень образования клиента  \n",
    "* `education_id` — идентификатор уровня образования  \n",
    "* `family_status` — семейное положение  \n",
    "* `family_status_id` — идентификатор семейного положения  \n",
    "* `gender` — пол клиента  \n",
    "* `income_type` — тип занятости  \n",
    "* `debt` — имел ли задолженность по возврату кредитов  \n",
    "* `total_income` — ежемесячный доход  \n",
    "* `purpose` — цель получения кредита  "
   ]
  },
  {
   "cell_type": "markdown",
   "id": "26613308",
   "metadata": {
    "id": "26613308"
   },
   "source": [
    "## Импорт библиотек и загрузка данных"
   ]
  },
  {
   "cell_type": "code",
   "execution_count": 1,
   "id": "708de422",
   "metadata": {},
   "outputs": [],
   "source": [
    "import pandas as pd"
   ]
  },
  {
   "cell_type": "code",
   "execution_count": 2,
   "id": "77a68a90",
   "metadata": {
    "id": "77a68a90"
   },
   "outputs": [],
   "source": [
    "try:\n",
    "    data = pd.read_csv('/datasets/data.csv')\n",
    "except:\n",
    "    data = pd.read_csv('https://code.s3.yandex.net/datasets/data.csv')"
   ]
  },
  {
   "cell_type": "code",
   "execution_count": 3,
   "id": "b0451a9a",
   "metadata": {
    "id": "b0451a9a",
    "outputId": "1a8f3ef2-d323-4ec2-ddf7-89670b5944c4"
   },
   "outputs": [
    {
     "data": {
      "text/html": [
       "<div>\n",
       "<style scoped>\n",
       "    .dataframe tbody tr th:only-of-type {\n",
       "        vertical-align: middle;\n",
       "    }\n",
       "\n",
       "    .dataframe tbody tr th {\n",
       "        vertical-align: top;\n",
       "    }\n",
       "\n",
       "    .dataframe thead th {\n",
       "        text-align: right;\n",
       "    }\n",
       "</style>\n",
       "<table border=\"1\" class=\"dataframe\">\n",
       "  <thead>\n",
       "    <tr style=\"text-align: right;\">\n",
       "      <th></th>\n",
       "      <th>children</th>\n",
       "      <th>days_employed</th>\n",
       "      <th>dob_years</th>\n",
       "      <th>education</th>\n",
       "      <th>education_id</th>\n",
       "      <th>family_status</th>\n",
       "      <th>family_status_id</th>\n",
       "      <th>gender</th>\n",
       "      <th>income_type</th>\n",
       "      <th>debt</th>\n",
       "      <th>total_income</th>\n",
       "      <th>purpose</th>\n",
       "    </tr>\n",
       "  </thead>\n",
       "  <tbody>\n",
       "    <tr>\n",
       "      <th>0</th>\n",
       "      <td>1</td>\n",
       "      <td>-8437.673028</td>\n",
       "      <td>42</td>\n",
       "      <td>высшее</td>\n",
       "      <td>0</td>\n",
       "      <td>женат / замужем</td>\n",
       "      <td>0</td>\n",
       "      <td>F</td>\n",
       "      <td>сотрудник</td>\n",
       "      <td>0</td>\n",
       "      <td>253875.639453</td>\n",
       "      <td>покупка жилья</td>\n",
       "    </tr>\n",
       "    <tr>\n",
       "      <th>1</th>\n",
       "      <td>1</td>\n",
       "      <td>-4024.803754</td>\n",
       "      <td>36</td>\n",
       "      <td>среднее</td>\n",
       "      <td>1</td>\n",
       "      <td>женат / замужем</td>\n",
       "      <td>0</td>\n",
       "      <td>F</td>\n",
       "      <td>сотрудник</td>\n",
       "      <td>0</td>\n",
       "      <td>112080.014102</td>\n",
       "      <td>приобретение автомобиля</td>\n",
       "    </tr>\n",
       "    <tr>\n",
       "      <th>2</th>\n",
       "      <td>0</td>\n",
       "      <td>-5623.422610</td>\n",
       "      <td>33</td>\n",
       "      <td>Среднее</td>\n",
       "      <td>1</td>\n",
       "      <td>женат / замужем</td>\n",
       "      <td>0</td>\n",
       "      <td>M</td>\n",
       "      <td>сотрудник</td>\n",
       "      <td>0</td>\n",
       "      <td>145885.952297</td>\n",
       "      <td>покупка жилья</td>\n",
       "    </tr>\n",
       "    <tr>\n",
       "      <th>3</th>\n",
       "      <td>3</td>\n",
       "      <td>-4124.747207</td>\n",
       "      <td>32</td>\n",
       "      <td>среднее</td>\n",
       "      <td>1</td>\n",
       "      <td>женат / замужем</td>\n",
       "      <td>0</td>\n",
       "      <td>M</td>\n",
       "      <td>сотрудник</td>\n",
       "      <td>0</td>\n",
       "      <td>267628.550329</td>\n",
       "      <td>дополнительное образование</td>\n",
       "    </tr>\n",
       "    <tr>\n",
       "      <th>4</th>\n",
       "      <td>0</td>\n",
       "      <td>340266.072047</td>\n",
       "      <td>53</td>\n",
       "      <td>среднее</td>\n",
       "      <td>1</td>\n",
       "      <td>гражданский брак</td>\n",
       "      <td>1</td>\n",
       "      <td>F</td>\n",
       "      <td>пенсионер</td>\n",
       "      <td>0</td>\n",
       "      <td>158616.077870</td>\n",
       "      <td>сыграть свадьбу</td>\n",
       "    </tr>\n",
       "  </tbody>\n",
       "</table>\n",
       "</div>"
      ],
      "text/plain": [
       "   children  days_employed  dob_years education  education_id  \\\n",
       "0         1   -8437.673028         42    высшее             0   \n",
       "1         1   -4024.803754         36   среднее             1   \n",
       "2         0   -5623.422610         33   Среднее             1   \n",
       "3         3   -4124.747207         32   среднее             1   \n",
       "4         0  340266.072047         53   среднее             1   \n",
       "\n",
       "      family_status  family_status_id gender income_type  debt   total_income  \\\n",
       "0   женат / замужем                 0      F   сотрудник     0  253875.639453   \n",
       "1   женат / замужем                 0      F   сотрудник     0  112080.014102   \n",
       "2   женат / замужем                 0      M   сотрудник     0  145885.952297   \n",
       "3   женат / замужем                 0      M   сотрудник     0  267628.550329   \n",
       "4  гражданский брак                 1      F   пенсионер     0  158616.077870   \n",
       "\n",
       "                      purpose  \n",
       "0               покупка жилья  \n",
       "1     приобретение автомобиля  \n",
       "2               покупка жилья  \n",
       "3  дополнительное образование  \n",
       "4             сыграть свадьбу  "
      ]
     },
     "execution_count": 3,
     "metadata": {},
     "output_type": "execute_result"
    }
   ],
   "source": [
    "data.head(5)"
   ]
  },
  {
   "cell_type": "code",
   "execution_count": 4,
   "id": "ab3f863b",
   "metadata": {
    "id": "ab3f863b",
    "outputId": "15376089-8dad-46c9-b520-c05248d43158",
    "scrolled": true
   },
   "outputs": [
    {
     "name": "stdout",
     "output_type": "stream",
     "text": [
      "<class 'pandas.core.frame.DataFrame'>\n",
      "RangeIndex: 21525 entries, 0 to 21524\n",
      "Data columns (total 12 columns):\n",
      " #   Column            Non-Null Count  Dtype  \n",
      "---  ------            --------------  -----  \n",
      " 0   children          21525 non-null  int64  \n",
      " 1   days_employed     19351 non-null  float64\n",
      " 2   dob_years         21525 non-null  int64  \n",
      " 3   education         21525 non-null  object \n",
      " 4   education_id      21525 non-null  int64  \n",
      " 5   family_status     21525 non-null  object \n",
      " 6   family_status_id  21525 non-null  int64  \n",
      " 7   gender            21525 non-null  object \n",
      " 8   income_type       21525 non-null  object \n",
      " 9   debt              21525 non-null  int64  \n",
      " 10  total_income      19351 non-null  float64\n",
      " 11  purpose           21525 non-null  object \n",
      "dtypes: float64(2), int64(5), object(5)\n",
      "memory usage: 2.0+ MB\n"
     ]
    }
   ],
   "source": [
    "data.info()"
   ]
  },
  {
   "cell_type": "markdown",
   "id": "fd7aaacb",
   "metadata": {},
   "source": [
    "Данные загружены. Наблюдаем пропуски и несоответствие типов данных в некоторых столбцах. Подготовим данные к работе."
   ]
  },
  {
   "cell_type": "markdown",
   "id": "60e3e22d",
   "metadata": {
    "id": "60e3e22d"
   },
   "source": [
    "## Предобработка данных"
   ]
  },
  {
   "cell_type": "markdown",
   "id": "03dc170c",
   "metadata": {
    "id": "03dc170c"
   },
   "source": [
    "### Исследование пропусков"
   ]
  },
  {
   "cell_type": "code",
   "execution_count": 5,
   "id": "2dc372b2",
   "metadata": {
    "id": "2dc372b2",
    "outputId": "81f4d817-781c-465c-ed15-91ce4446810d"
   },
   "outputs": [
    {
     "data": {
      "text/plain": [
       "children               0\n",
       "days_employed       2174\n",
       "dob_years              0\n",
       "education              0\n",
       "education_id           0\n",
       "family_status          0\n",
       "family_status_id       0\n",
       "gender                 0\n",
       "income_type            0\n",
       "debt                   0\n",
       "total_income        2174\n",
       "purpose                0\n",
       "dtype: int64"
      ]
     },
     "execution_count": 5,
     "metadata": {},
     "output_type": "execute_result"
    }
   ],
   "source": [
    "data.isna().sum()"
   ]
  },
  {
   "cell_type": "code",
   "execution_count": 6,
   "id": "bd1780c8",
   "metadata": {},
   "outputs": [
    {
     "data": {
      "text/html": [
       "<style type=\"text/css\">\n",
       "#T_0f567_row0_col0, #T_0f567_row2_col0, #T_0f567_row3_col0, #T_0f567_row4_col0, #T_0f567_row5_col0, #T_0f567_row6_col0, #T_0f567_row7_col0, #T_0f567_row8_col0, #T_0f567_row9_col0, #T_0f567_row11_col0 {\n",
       "  background-color: #3b4cc0;\n",
       "  color: #f1f1f1;\n",
       "}\n",
       "#T_0f567_row1_col0, #T_0f567_row10_col0 {\n",
       "  background-color: #b40426;\n",
       "  color: #f1f1f1;\n",
       "}\n",
       "</style>\n",
       "<table id=\"T_0f567\">\n",
       "  <thead>\n",
       "    <tr>\n",
       "      <th class=\"blank level0\" >&nbsp;</th>\n",
       "      <th id=\"T_0f567_level0_col0\" class=\"col_heading level0 col0\" >0</th>\n",
       "    </tr>\n",
       "  </thead>\n",
       "  <tbody>\n",
       "    <tr>\n",
       "      <th id=\"T_0f567_level0_row0\" class=\"row_heading level0 row0\" >children</th>\n",
       "      <td id=\"T_0f567_row0_col0\" class=\"data row0 col0\" >0.0</td>\n",
       "    </tr>\n",
       "    <tr>\n",
       "      <th id=\"T_0f567_level0_row1\" class=\"row_heading level0 row1\" >days_employed</th>\n",
       "      <td id=\"T_0f567_row1_col0\" class=\"data row1 col0\" >10.1</td>\n",
       "    </tr>\n",
       "    <tr>\n",
       "      <th id=\"T_0f567_level0_row2\" class=\"row_heading level0 row2\" >dob_years</th>\n",
       "      <td id=\"T_0f567_row2_col0\" class=\"data row2 col0\" >0.0</td>\n",
       "    </tr>\n",
       "    <tr>\n",
       "      <th id=\"T_0f567_level0_row3\" class=\"row_heading level0 row3\" >education</th>\n",
       "      <td id=\"T_0f567_row3_col0\" class=\"data row3 col0\" >0.0</td>\n",
       "    </tr>\n",
       "    <tr>\n",
       "      <th id=\"T_0f567_level0_row4\" class=\"row_heading level0 row4\" >education_id</th>\n",
       "      <td id=\"T_0f567_row4_col0\" class=\"data row4 col0\" >0.0</td>\n",
       "    </tr>\n",
       "    <tr>\n",
       "      <th id=\"T_0f567_level0_row5\" class=\"row_heading level0 row5\" >family_status</th>\n",
       "      <td id=\"T_0f567_row5_col0\" class=\"data row5 col0\" >0.0</td>\n",
       "    </tr>\n",
       "    <tr>\n",
       "      <th id=\"T_0f567_level0_row6\" class=\"row_heading level0 row6\" >family_status_id</th>\n",
       "      <td id=\"T_0f567_row6_col0\" class=\"data row6 col0\" >0.0</td>\n",
       "    </tr>\n",
       "    <tr>\n",
       "      <th id=\"T_0f567_level0_row7\" class=\"row_heading level0 row7\" >gender</th>\n",
       "      <td id=\"T_0f567_row7_col0\" class=\"data row7 col0\" >0.0</td>\n",
       "    </tr>\n",
       "    <tr>\n",
       "      <th id=\"T_0f567_level0_row8\" class=\"row_heading level0 row8\" >income_type</th>\n",
       "      <td id=\"T_0f567_row8_col0\" class=\"data row8 col0\" >0.0</td>\n",
       "    </tr>\n",
       "    <tr>\n",
       "      <th id=\"T_0f567_level0_row9\" class=\"row_heading level0 row9\" >debt</th>\n",
       "      <td id=\"T_0f567_row9_col0\" class=\"data row9 col0\" >0.0</td>\n",
       "    </tr>\n",
       "    <tr>\n",
       "      <th id=\"T_0f567_level0_row10\" class=\"row_heading level0 row10\" >total_income</th>\n",
       "      <td id=\"T_0f567_row10_col0\" class=\"data row10 col0\" >10.1</td>\n",
       "    </tr>\n",
       "    <tr>\n",
       "      <th id=\"T_0f567_level0_row11\" class=\"row_heading level0 row11\" >purpose</th>\n",
       "      <td id=\"T_0f567_row11_col0\" class=\"data row11 col0\" >0.0</td>\n",
       "    </tr>\n",
       "  </tbody>\n",
       "</table>\n"
      ],
      "text/plain": [
       "<pandas.io.formats.style.Styler at 0x221d2315310>"
      ]
     },
     "execution_count": 6,
     "metadata": {},
     "output_type": "execute_result"
    }
   ],
   "source": [
    "pd.DataFrame(data.isna().mean()*100).style.format(precision=1).background_gradient('coolwarm')"
   ]
  },
  {
   "cell_type": "markdown",
   "id": "032d6b52",
   "metadata": {},
   "source": [
    "На сумму дохода сильнее всего влияет тип занятости, поэтому заполним пропуски в столбце `total_income` медианным значением по каждому типу из столбца `income_type`.\n",
    "Пропуски в столбце `days_employed` обработаем позже."
   ]
  },
  {
   "cell_type": "code",
   "execution_count": 7,
   "id": "bdabfb6e",
   "metadata": {
    "id": "bdabfb6e"
   },
   "outputs": [],
   "source": [
    "for t in data['income_type'].unique():\n",
    "    data.loc[(data['income_type'] == t) & (data['total_income'].isna()), 'total_income'] = \\\n",
    "    data.loc[(data['income_type'] == t), 'total_income'].median()"
   ]
  },
  {
   "cell_type": "code",
   "execution_count": 8,
   "id": "071cdad1",
   "metadata": {
    "id": "2dc372b2",
    "outputId": "81f4d817-781c-465c-ed15-91ce4446810d"
   },
   "outputs": [
    {
     "data": {
      "text/plain": [
       "0"
      ]
     },
     "execution_count": 8,
     "metadata": {},
     "output_type": "execute_result"
    }
   ],
   "source": [
    "data['total_income'].isna().sum()"
   ]
  },
  {
   "cell_type": "markdown",
   "id": "5be34059",
   "metadata": {
    "id": "5be34059"
   },
   "source": [
    "### Обработка аномальных значений"
   ]
  },
  {
   "cell_type": "markdown",
   "id": "065d3820",
   "metadata": {},
   "source": [
    "Заменим все отрицательные значения столбца `days_employed` положительными."
   ]
  },
  {
   "cell_type": "code",
   "execution_count": 9,
   "id": "020c46cc",
   "metadata": {
    "id": "020c46cc"
   },
   "outputs": [],
   "source": [
    "data['days_employed'] = data['days_employed'].abs()"
   ]
  },
  {
   "cell_type": "markdown",
   "id": "b46b3c8a",
   "metadata": {},
   "source": [
    "Для каждого типа занятости выведем медианное значение трудового стажа `days_employed` в днях."
   ]
  },
  {
   "cell_type": "code",
   "execution_count": 10,
   "id": "cd3e6328",
   "metadata": {
    "id": "cd3e6328",
    "outputId": "801ef80e-522b-4668-f34e-565af7432bcf"
   },
   "outputs": [
    {
     "data": {
      "text/plain": [
       "income_type\n",
       "безработный        366413.652744\n",
       "в декрете            3296.759962\n",
       "госслужащий          2689.368353\n",
       "компаньон            1547.382223\n",
       "пенсионер          365213.306266\n",
       "предприниматель       520.848083\n",
       "сотрудник            1574.202821\n",
       "студент               578.751554\n",
       "Name: days_employed, dtype: float64"
      ]
     },
     "execution_count": 10,
     "metadata": {},
     "output_type": "execute_result"
    }
   ],
   "source": [
    "data.groupby('income_type')['days_employed'].agg('median')"
   ]
  },
  {
   "cell_type": "markdown",
   "id": "90c5f058",
   "metadata": {
    "id": "90c5f058"
   },
   "source": [
    "У двух типов (безработные и пенсионеры) получатся аномально большие значения."
   ]
  },
  {
   "cell_type": "code",
   "execution_count": 11,
   "id": "dbb37b8e",
   "metadata": {
    "id": "dbb37b8e",
    "outputId": "6975b15c-7f95-4697-d16d-a0c79b657b03"
   },
   "outputs": [
    {
     "data": {
      "text/plain": [
       "array([ 1,  0,  3,  2, -1,  4, 20,  5], dtype=int64)"
      ]
     },
     "execution_count": 11,
     "metadata": {},
     "output_type": "execute_result"
    }
   ],
   "source": [
    "data['children'].unique()"
   ]
  },
  {
   "cell_type": "code",
   "execution_count": 12,
   "id": "7afac83f",
   "metadata": {},
   "outputs": [
    {
     "data": {
      "text/plain": [
       "0.57"
      ]
     },
     "execution_count": 12,
     "metadata": {},
     "output_type": "execute_result"
    }
   ],
   "source": [
    "round(len(data[(data['children'] == -1) | (data['children'] == 20)])/len(data)*100, 2)"
   ]
  },
  {
   "cell_type": "markdown",
   "id": "b7d3a511",
   "metadata": {
    "id": "2b8b0715"
   },
   "source": [
    "Удалим строки, в которых встречаются аномальные значения в столбце `children`, их доля составляет менее 1%"
   ]
  },
  {
   "cell_type": "code",
   "execution_count": 13,
   "id": "20009df8",
   "metadata": {
    "id": "20009df8"
   },
   "outputs": [],
   "source": [
    "data = data[(data['children'] != -1) & (data['children'] != 20)]"
   ]
  },
  {
   "cell_type": "code",
   "execution_count": 14,
   "id": "07337b81",
   "metadata": {
    "id": "07337b81",
    "outputId": "b2097101-d49d-44d9-901b-32a65c9463d1"
   },
   "outputs": [
    {
     "data": {
      "text/plain": [
       "array([1, 0, 3, 2, 4, 5], dtype=int64)"
      ]
     },
     "execution_count": 14,
     "metadata": {},
     "output_type": "execute_result"
    }
   ],
   "source": [
    "data['children'].unique()"
   ]
  },
  {
   "cell_type": "markdown",
   "id": "ee3f52d4",
   "metadata": {
    "id": "ee3f52d4"
   },
   "source": [
    "### Удаление пропусков (продолжение)"
   ]
  },
  {
   "cell_type": "markdown",
   "id": "a700b0e4",
   "metadata": {
    "id": "a700b0e4"
   },
   "source": [
    "Заполним пропуски в столбце `days_employed` медианными значениями для каждого типа занятости `income_type`."
   ]
  },
  {
   "cell_type": "code",
   "execution_count": 15,
   "id": "61946b83",
   "metadata": {
    "id": "61946b83"
   },
   "outputs": [],
   "source": [
    "for t in data['income_type'].unique():\n",
    "    data.loc[(data['income_type'] == t) & (data['days_employed'].isna()), 'days_employed'] = \\\n",
    "    data.loc[(data['income_type'] == t), 'days_employed'].median()"
   ]
  },
  {
   "cell_type": "code",
   "execution_count": 16,
   "id": "937c7014",
   "metadata": {
    "id": "937c7014",
    "outputId": "8da1e4e1-358e-4e87-98c9-f261bce0a7b2"
   },
   "outputs": [
    {
     "data": {
      "text/plain": [
       "children            0\n",
       "days_employed       0\n",
       "dob_years           0\n",
       "education           0\n",
       "education_id        0\n",
       "family_status       0\n",
       "family_status_id    0\n",
       "gender              0\n",
       "income_type         0\n",
       "debt                0\n",
       "total_income        0\n",
       "purpose             0\n",
       "dtype: int64"
      ]
     },
     "execution_count": 16,
     "metadata": {},
     "output_type": "execute_result"
    }
   ],
   "source": [
    "data.isna().sum()"
   ]
  },
  {
   "cell_type": "markdown",
   "id": "98a6717f",
   "metadata": {},
   "source": [
    "Пропуски обработаны."
   ]
  },
  {
   "cell_type": "markdown",
   "id": "d522e295",
   "metadata": {
    "id": "d522e295"
   },
   "source": [
    "### Изменение типов данных"
   ]
  },
  {
   "cell_type": "markdown",
   "id": "c229c581",
   "metadata": {
    "id": "c229c581"
   },
   "source": [
    "Заменим вещественный тип данных в столбце `total_income` на целочисленный."
   ]
  },
  {
   "cell_type": "code",
   "execution_count": 17,
   "id": "31036462",
   "metadata": {
    "id": "31036462"
   },
   "outputs": [],
   "source": [
    "data['total_income'] = data['total_income'].astype(int)"
   ]
  },
  {
   "cell_type": "markdown",
   "id": "b8e3d1d9",
   "metadata": {
    "id": "b8e3d1d9"
   },
   "source": [
    "### Обработка дубликатов"
   ]
  },
  {
   "cell_type": "markdown",
   "id": "9be53c49",
   "metadata": {
    "id": "9be53c49"
   },
   "source": [
    "Обработаем неявные дубликаты в столбце `education`. В этом столбце есть одни и те же значения, но записанные по-разному: с использованием заглавных и строчных букв. Приведем их к нижнему регистру."
   ]
  },
  {
   "cell_type": "code",
   "execution_count": 18,
   "id": "d89e73e1",
   "metadata": {
    "id": "d89e73e1"
   },
   "outputs": [],
   "source": [
    "data['education'] = data['education'].str.lower()"
   ]
  },
  {
   "cell_type": "code",
   "execution_count": 19,
   "id": "e10efb23",
   "metadata": {
    "id": "e10efb23",
    "outputId": "9684deba-1934-42d1-99e1-cda61740f822"
   },
   "outputs": [
    {
     "data": {
      "text/plain": [
       "71"
      ]
     },
     "execution_count": 19,
     "metadata": {},
     "output_type": "execute_result"
    }
   ],
   "source": [
    "data.duplicated().sum()"
   ]
  },
  {
   "cell_type": "code",
   "execution_count": 20,
   "id": "df853f20",
   "metadata": {
    "id": "df853f20"
   },
   "outputs": [],
   "source": [
    "data = data.drop_duplicates()"
   ]
  },
  {
   "cell_type": "code",
   "execution_count": 21,
   "id": "67deac2f",
   "metadata": {
    "id": "e10efb23",
    "outputId": "9684deba-1934-42d1-99e1-cda61740f822"
   },
   "outputs": [
    {
     "data": {
      "text/plain": [
       "0"
      ]
     },
     "execution_count": 21,
     "metadata": {},
     "output_type": "execute_result"
    }
   ],
   "source": [
    "data.duplicated().sum()"
   ]
  },
  {
   "cell_type": "markdown",
   "id": "ae39a119",
   "metadata": {},
   "source": [
    "Дубликаты обработаны."
   ]
  },
  {
   "cell_type": "markdown",
   "id": "627be38f",
   "metadata": {
    "id": "627be38f"
   },
   "source": [
    "### Категоризация данных"
   ]
  },
  {
   "cell_type": "markdown",
   "id": "4684c3e0",
   "metadata": {
    "id": "4684c3e0"
   },
   "source": [
    "Создадим в датафрейме `data` столбец `total_income_category` с категориями:\n",
    "\n",
    "- 0–30000 — `'E'`;\n",
    "- 30001–50000 — `'D'`;\n",
    "- 50001–200000 — `'C'`;\n",
    "- 200001–1000000 — `'B'`;\n",
    "- 1000001 и выше — `'A'`."
   ]
  },
  {
   "cell_type": "code",
   "execution_count": 22,
   "id": "78965238",
   "metadata": {
    "id": "78965238"
   },
   "outputs": [],
   "source": [
    "def categorize_income(income):\n",
    "    try:\n",
    "        if 0 <= income <= 30000:\n",
    "            return 'E'\n",
    "        elif 30001 <= income <= 50000:\n",
    "            return 'D'\n",
    "        elif 50001 <= income <= 200000:\n",
    "            return 'C'\n",
    "        elif 200001 <= income <= 1000000:\n",
    "            return 'B'\n",
    "        elif income >= 1000001:\n",
    "            return 'A'\n",
    "    except:\n",
    "        pass"
   ]
  },
  {
   "cell_type": "code",
   "execution_count": 23,
   "id": "0980ada1",
   "metadata": {
    "id": "0980ada1"
   },
   "outputs": [],
   "source": [
    "data['total_income_category'] = data['total_income'].apply(categorize_income)"
   ]
  },
  {
   "cell_type": "code",
   "execution_count": 24,
   "id": "ee07b65e",
   "metadata": {
    "id": "ee07b65e",
    "outputId": "673c12d9-7d7e-4ae0-9812-c622c89dd244"
   },
   "outputs": [
    {
     "data": {
      "text/plain": [
       "array(['покупка жилья', 'приобретение автомобиля',\n",
       "       'дополнительное образование', 'сыграть свадьбу',\n",
       "       'операции с жильем', 'образование', 'на проведение свадьбы',\n",
       "       'покупка жилья для семьи', 'покупка недвижимости',\n",
       "       'покупка коммерческой недвижимости', 'покупка жилой недвижимости',\n",
       "       'строительство собственной недвижимости', 'недвижимость',\n",
       "       'строительство недвижимости', 'на покупку подержанного автомобиля',\n",
       "       'на покупку своего автомобиля',\n",
       "       'операции с коммерческой недвижимостью',\n",
       "       'строительство жилой недвижимости', 'жилье',\n",
       "       'операции со своей недвижимостью', 'автомобили',\n",
       "       'заняться образованием', 'сделка с подержанным автомобилем',\n",
       "       'получение образования', 'автомобиль', 'свадьба',\n",
       "       'получение дополнительного образования', 'покупка своего жилья',\n",
       "       'операции с недвижимостью', 'получение высшего образования',\n",
       "       'свой автомобиль', 'сделка с автомобилем',\n",
       "       'профильное образование', 'высшее образование',\n",
       "       'покупка жилья для сдачи', 'на покупку автомобиля', 'ремонт жилью',\n",
       "       'заняться высшим образованием'], dtype=object)"
      ]
     },
     "execution_count": 24,
     "metadata": {},
     "output_type": "execute_result"
    }
   ],
   "source": [
    "data['purpose'].unique()"
   ]
  },
  {
   "cell_type": "markdown",
   "id": "52b79d56",
   "metadata": {
    "id": "52b79d56"
   },
   "source": [
    "Создадим функцию, которая на основании данных из столбца `purpose` сформирует новый столбец `purpose_category`, в который войдут следующие категории:\n",
    "\n",
    "- `'операции с автомобилем'`,\n",
    "- `'операции с недвижимостью'`,\n",
    "- `'проведение свадьбы'`,\n",
    "- `'получение образования'`."
   ]
  },
  {
   "cell_type": "code",
   "execution_count": 25,
   "id": "be41da5d",
   "metadata": {
    "id": "be41da5d"
   },
   "outputs": [],
   "source": [
    "def categorize_purpose(row):\n",
    "    try:\n",
    "        if 'автом' in row:\n",
    "            return 'операции с автомобилем'\n",
    "        elif 'жил' in row or 'недвиж' in row:\n",
    "            return 'операции с недвижимостью'\n",
    "        elif 'свад' in row:\n",
    "            return 'проведение свадьбы'\n",
    "        elif 'образов' in row:\n",
    "            return 'получение образования'\n",
    "    except:\n",
    "        return 'нет категории'"
   ]
  },
  {
   "cell_type": "code",
   "execution_count": 26,
   "id": "94c4a19a",
   "metadata": {
    "id": "94c4a19a"
   },
   "outputs": [],
   "source": [
    "data['purpose_category'] = data['purpose'].apply(categorize_purpose)"
   ]
  },
  {
   "cell_type": "markdown",
   "id": "bd536f8d",
   "metadata": {},
   "source": [
    "Проведена категоризация данных."
   ]
  },
  {
   "cell_type": "markdown",
   "id": "3d596c34",
   "metadata": {
    "id": "3d596c34"
   },
   "source": [
    "### Исследование данных"
   ]
  },
  {
   "cell_type": "markdown",
   "id": "648db036",
   "metadata": {
    "id": "648db036"
   },
   "source": [
    "#### Есть ли зависимость между количеством детей и возвратом кредита в срок?"
   ]
  },
  {
   "cell_type": "code",
   "execution_count": 27,
   "id": "7fcff25e",
   "metadata": {
    "id": "7fcff25e"
   },
   "outputs": [
    {
     "data": {
      "text/plain": [
       "0    14091\n",
       "1     4808\n",
       "2     2052\n",
       "3      330\n",
       "4       41\n",
       "5        9\n",
       "Name: children, dtype: int64"
      ]
     },
     "execution_count": 27,
     "metadata": {},
     "output_type": "execute_result"
    }
   ],
   "source": [
    "data['children'].value_counts()"
   ]
  },
  {
   "cell_type": "markdown",
   "id": "d5e94776",
   "metadata": {},
   "source": [
    "Ввиду небольшого процента заемщиков с 2 и более детьми логично объединить их в отдельную группу: 2 и более детей.\n",
    "Категории заемщиков по количеству детей:\n",
    "0 - 0 детей;\n",
    "1 - 1 ребенок;\n",
    "2 - 2 и более детей."
   ]
  },
  {
   "cell_type": "code",
   "execution_count": 28,
   "id": "a9d0641b",
   "metadata": {},
   "outputs": [],
   "source": [
    "def children_category(df):\n",
    "    try:\n",
    "        if df == 0:\n",
    "            return 0\n",
    "        if df == 1:\n",
    "            return 1\n",
    "        if df >= 2:\n",
    "            return 2\n",
    "    except:\n",
    "        pass"
   ]
  },
  {
   "cell_type": "code",
   "execution_count": 29,
   "id": "f00acf0c",
   "metadata": {},
   "outputs": [],
   "source": [
    "data['children_category'] = data['children'].apply(children_category)"
   ]
  },
  {
   "cell_type": "code",
   "execution_count": 30,
   "id": "91688d7d",
   "metadata": {
    "scrolled": true
   },
   "outputs": [
    {
     "data": {
      "text/html": [
       "<div>\n",
       "<style scoped>\n",
       "    .dataframe tbody tr th:only-of-type {\n",
       "        vertical-align: middle;\n",
       "    }\n",
       "\n",
       "    .dataframe tbody tr th {\n",
       "        vertical-align: top;\n",
       "    }\n",
       "\n",
       "    .dataframe thead th {\n",
       "        text-align: right;\n",
       "    }\n",
       "</style>\n",
       "<table border=\"1\" class=\"dataframe\">\n",
       "  <thead>\n",
       "    <tr style=\"text-align: right;\">\n",
       "      <th></th>\n",
       "      <th>no_debt</th>\n",
       "      <th>debt</th>\n",
       "      <th>share_of_debtors, %</th>\n",
       "    </tr>\n",
       "    <tr>\n",
       "      <th>children_category</th>\n",
       "      <th></th>\n",
       "      <th></th>\n",
       "      <th></th>\n",
       "    </tr>\n",
       "  </thead>\n",
       "  <tbody>\n",
       "    <tr>\n",
       "      <th>0</th>\n",
       "      <td>13028</td>\n",
       "      <td>1063</td>\n",
       "      <td>7.54</td>\n",
       "    </tr>\n",
       "    <tr>\n",
       "      <th>1</th>\n",
       "      <td>4364</td>\n",
       "      <td>444</td>\n",
       "      <td>9.23</td>\n",
       "    </tr>\n",
       "    <tr>\n",
       "      <th>2</th>\n",
       "      <td>2207</td>\n",
       "      <td>225</td>\n",
       "      <td>9.25</td>\n",
       "    </tr>\n",
       "  </tbody>\n",
       "</table>\n",
       "</div>"
      ],
      "text/plain": [
       "                   no_debt  debt  share_of_debtors, %\n",
       "children_category                                    \n",
       "0                    13028  1063                 7.54\n",
       "1                     4364   444                 9.23\n",
       "2                     2207   225                 9.25"
      ]
     },
     "execution_count": 30,
     "metadata": {},
     "output_type": "execute_result"
    }
   ],
   "source": [
    "children_debt = data.pivot_table(index=['children_category'], columns=['debt'], values=['purpose'], aggfunc='count')\n",
    "children_debt.columns = ['no_debt', 'debt']\n",
    "children_debt['share_of_debtors, %'] = (children_debt['debt']/(children_debt['debt']+children_debt['no_debt'])*100).round(2)\n",
    "children_debt"
   ]
  },
  {
   "cell_type": "markdown",
   "id": "2eb9088e",
   "metadata": {
    "id": "2eb9088e"
   },
   "source": [
    "**Вывод:** Среди заемщиков не имеющих детей должников меньше почти на 2%, по сравнению с клиентами с детьми."
   ]
  },
  {
   "cell_type": "markdown",
   "id": "74c9b3a7",
   "metadata": {
    "id": "74c9b3a7"
   },
   "source": [
    "#### Есть ли зависимость между семейным положением и возвратом кредита в срок?"
   ]
  },
  {
   "cell_type": "code",
   "execution_count": 31,
   "id": "8098ab3b",
   "metadata": {
    "id": "8098ab3b"
   },
   "outputs": [
    {
     "data": {
      "text/html": [
       "<div>\n",
       "<style scoped>\n",
       "    .dataframe tbody tr th:only-of-type {\n",
       "        vertical-align: middle;\n",
       "    }\n",
       "\n",
       "    .dataframe tbody tr th {\n",
       "        vertical-align: top;\n",
       "    }\n",
       "\n",
       "    .dataframe thead th {\n",
       "        text-align: right;\n",
       "    }\n",
       "</style>\n",
       "<table border=\"1\" class=\"dataframe\">\n",
       "  <thead>\n",
       "    <tr style=\"text-align: right;\">\n",
       "      <th></th>\n",
       "      <th>no_debt</th>\n",
       "      <th>debt</th>\n",
       "      <th>share_of_debtors, %</th>\n",
       "    </tr>\n",
       "    <tr>\n",
       "      <th>family_status</th>\n",
       "      <th></th>\n",
       "      <th></th>\n",
       "      <th></th>\n",
       "    </tr>\n",
       "  </thead>\n",
       "  <tbody>\n",
       "    <tr>\n",
       "      <th>Не женат / не замужем</th>\n",
       "      <td>2523</td>\n",
       "      <td>273</td>\n",
       "      <td>9.76</td>\n",
       "    </tr>\n",
       "    <tr>\n",
       "      <th>в разводе</th>\n",
       "      <td>1105</td>\n",
       "      <td>84</td>\n",
       "      <td>7.06</td>\n",
       "    </tr>\n",
       "    <tr>\n",
       "      <th>вдовец / вдова</th>\n",
       "      <td>888</td>\n",
       "      <td>63</td>\n",
       "      <td>6.62</td>\n",
       "    </tr>\n",
       "    <tr>\n",
       "      <th>гражданский брак</th>\n",
       "      <td>3749</td>\n",
       "      <td>385</td>\n",
       "      <td>9.31</td>\n",
       "    </tr>\n",
       "    <tr>\n",
       "      <th>женат / замужем</th>\n",
       "      <td>11334</td>\n",
       "      <td>927</td>\n",
       "      <td>7.56</td>\n",
       "    </tr>\n",
       "  </tbody>\n",
       "</table>\n",
       "</div>"
      ],
      "text/plain": [
       "                       no_debt  debt  share_of_debtors, %\n",
       "family_status                                            \n",
       "Не женат / не замужем     2523   273                 9.76\n",
       "в разводе                 1105    84                 7.06\n",
       "вдовец / вдова             888    63                 6.62\n",
       "гражданский брак          3749   385                 9.31\n",
       "женат / замужем          11334   927                 7.56"
      ]
     },
     "execution_count": 31,
     "metadata": {},
     "output_type": "execute_result"
    }
   ],
   "source": [
    "family_status_debt = data.pivot_table(index=['family_status'], columns=['debt'], values=['purpose'], aggfunc='count')\n",
    "family_status_debt.columns = ['no_debt', 'debt']\n",
    "family_status_debt['share_of_debtors, %'] = (family_status_debt['debt']/ \\\n",
    "                                             (family_status_debt['no_debt']+family_status_debt['debt'])*100).round(2)\n",
    "family_status_debt"
   ]
  },
  {
   "cell_type": "markdown",
   "id": "c389ca63",
   "metadata": {
    "id": "c389ca63"
   },
   "source": [
    "**Вывод:** Меньше всего должников среди овдовевших 6.6% и разведенных клиентов 7.1%. Чуть хуже показатели среди клиентов состоящих в браке: задолженность имеет 7.6%. Больше всего должников среди клиентов, состоящих в гражданском браке 9.3% и холостых 9.8%."
   ]
  },
  {
   "cell_type": "markdown",
   "id": "9529de68",
   "metadata": {
    "id": "9529de68"
   },
   "source": [
    "#### Есть ли зависимость между уровнем дохода и возвратом кредита в срок?"
   ]
  },
  {
   "cell_type": "code",
   "execution_count": 32,
   "id": "8787f44a",
   "metadata": {
    "id": "8787f44a"
   },
   "outputs": [
    {
     "data": {
      "text/plain": [
       "C    15921\n",
       "B     5014\n",
       "D      349\n",
       "A       25\n",
       "E       22\n",
       "Name: total_income_category, dtype: int64"
      ]
     },
     "execution_count": 32,
     "metadata": {},
     "output_type": "execute_result"
    }
   ],
   "source": [
    "data['total_income_category'].value_counts()"
   ]
  },
  {
   "cell_type": "markdown",
   "id": "8a763f0e",
   "metadata": {},
   "source": [
    "Достаточное количество данных для сравнения имеется только для групп B и C."
   ]
  },
  {
   "cell_type": "code",
   "execution_count": 33,
   "id": "5340fb15",
   "metadata": {},
   "outputs": [
    {
     "data": {
      "text/html": [
       "<div>\n",
       "<style scoped>\n",
       "    .dataframe tbody tr th:only-of-type {\n",
       "        vertical-align: middle;\n",
       "    }\n",
       "\n",
       "    .dataframe tbody tr th {\n",
       "        vertical-align: top;\n",
       "    }\n",
       "\n",
       "    .dataframe thead th {\n",
       "        text-align: right;\n",
       "    }\n",
       "</style>\n",
       "<table border=\"1\" class=\"dataframe\">\n",
       "  <thead>\n",
       "    <tr style=\"text-align: right;\">\n",
       "      <th></th>\n",
       "      <th>no_debt</th>\n",
       "      <th>debt</th>\n",
       "      <th>share_of_debtors, %</th>\n",
       "    </tr>\n",
       "    <tr>\n",
       "      <th>total_income_category</th>\n",
       "      <th></th>\n",
       "      <th></th>\n",
       "      <th></th>\n",
       "    </tr>\n",
       "  </thead>\n",
       "  <tbody>\n",
       "    <tr>\n",
       "      <th>A</th>\n",
       "      <td>23</td>\n",
       "      <td>2</td>\n",
       "      <td>8.00</td>\n",
       "    </tr>\n",
       "    <tr>\n",
       "      <th>B</th>\n",
       "      <td>4660</td>\n",
       "      <td>354</td>\n",
       "      <td>7.06</td>\n",
       "    </tr>\n",
       "    <tr>\n",
       "      <th>C</th>\n",
       "      <td>14568</td>\n",
       "      <td>1353</td>\n",
       "      <td>8.50</td>\n",
       "    </tr>\n",
       "    <tr>\n",
       "      <th>D</th>\n",
       "      <td>328</td>\n",
       "      <td>21</td>\n",
       "      <td>6.02</td>\n",
       "    </tr>\n",
       "    <tr>\n",
       "      <th>E</th>\n",
       "      <td>20</td>\n",
       "      <td>2</td>\n",
       "      <td>9.09</td>\n",
       "    </tr>\n",
       "  </tbody>\n",
       "</table>\n",
       "</div>"
      ],
      "text/plain": [
       "                       no_debt  debt  share_of_debtors, %\n",
       "total_income_category                                    \n",
       "A                           23     2                 8.00\n",
       "B                         4660   354                 7.06\n",
       "C                        14568  1353                 8.50\n",
       "D                          328    21                 6.02\n",
       "E                           20     2                 9.09"
      ]
     },
     "execution_count": 33,
     "metadata": {},
     "output_type": "execute_result"
    }
   ],
   "source": [
    "family_debt = data.pivot_table(index=['total_income_category'], columns=['debt'], values=['purpose'], aggfunc='count')\n",
    "family_debt.columns = ['no_debt', 'debt']\n",
    "family_debt['share_of_debtors, %'] = (family_debt['debt']/(family_debt['no_debt'] + family_debt['debt'])*100).round(2)\n",
    "family_debt"
   ]
  },
  {
   "cell_type": "markdown",
   "id": "6dd14b57",
   "metadata": {
    "id": "6dd14b57"
   },
   "source": [
    "**Вывод:** Процент должников в группе заемщиков с более высоким доходом ниже на 1,5%. "
   ]
  },
  {
   "cell_type": "markdown",
   "id": "1dcc9b12",
   "metadata": {
    "id": "1dcc9b12"
   },
   "source": [
    "#### Как разные цели кредита влияют на его возврат в срок?"
   ]
  },
  {
   "cell_type": "code",
   "execution_count": 34,
   "id": "c602bc8b",
   "metadata": {
    "id": "c602bc8b"
   },
   "outputs": [
    {
     "data": {
      "text/plain": [
       "операции с недвижимостью    10751\n",
       "операции с автомобилем       4279\n",
       "получение образования        3988\n",
       "проведение свадьбы           2313\n",
       "Name: purpose_category, dtype: int64"
      ]
     },
     "execution_count": 34,
     "metadata": {},
     "output_type": "execute_result"
    }
   ],
   "source": [
    "data['purpose_category'].value_counts()"
   ]
  },
  {
   "cell_type": "markdown",
   "id": "def1074c",
   "metadata": {},
   "source": [
    "Группы обладают достаточным количеством данных для их сравнения."
   ]
  },
  {
   "cell_type": "code",
   "execution_count": 35,
   "id": "eb4bae9d",
   "metadata": {},
   "outputs": [
    {
     "data": {
      "text/html": [
       "<div>\n",
       "<style scoped>\n",
       "    .dataframe tbody tr th:only-of-type {\n",
       "        vertical-align: middle;\n",
       "    }\n",
       "\n",
       "    .dataframe tbody tr th {\n",
       "        vertical-align: top;\n",
       "    }\n",
       "\n",
       "    .dataframe thead th {\n",
       "        text-align: right;\n",
       "    }\n",
       "</style>\n",
       "<table border=\"1\" class=\"dataframe\">\n",
       "  <thead>\n",
       "    <tr style=\"text-align: right;\">\n",
       "      <th></th>\n",
       "      <th>no_debt</th>\n",
       "      <th>debt</th>\n",
       "      <th>share_of_debtors, %</th>\n",
       "    </tr>\n",
       "    <tr>\n",
       "      <th>purpose_category</th>\n",
       "      <th></th>\n",
       "      <th></th>\n",
       "      <th></th>\n",
       "    </tr>\n",
       "  </thead>\n",
       "  <tbody>\n",
       "    <tr>\n",
       "      <th>операции с автомобилем</th>\n",
       "      <td>3879</td>\n",
       "      <td>400</td>\n",
       "      <td>9.35</td>\n",
       "    </tr>\n",
       "    <tr>\n",
       "      <th>операции с недвижимостью</th>\n",
       "      <td>9971</td>\n",
       "      <td>780</td>\n",
       "      <td>7.26</td>\n",
       "    </tr>\n",
       "    <tr>\n",
       "      <th>получение образования</th>\n",
       "      <td>3619</td>\n",
       "      <td>369</td>\n",
       "      <td>9.25</td>\n",
       "    </tr>\n",
       "    <tr>\n",
       "      <th>проведение свадьбы</th>\n",
       "      <td>2130</td>\n",
       "      <td>183</td>\n",
       "      <td>7.91</td>\n",
       "    </tr>\n",
       "  </tbody>\n",
       "</table>\n",
       "</div>"
      ],
      "text/plain": [
       "                          no_debt  debt  share_of_debtors, %\n",
       "purpose_category                                            \n",
       "операции с автомобилем       3879   400                 9.35\n",
       "операции с недвижимостью     9971   780                 7.26\n",
       "получение образования        3619   369                 9.25\n",
       "проведение свадьбы           2130   183                 7.91"
      ]
     },
     "execution_count": 35,
     "metadata": {},
     "output_type": "execute_result"
    }
   ],
   "source": [
    "purpose_debt = data.pivot_table(index=['purpose_category'], columns=['debt'], values=['purpose'], aggfunc='count')\n",
    "purpose_debt.columns = ['no_debt', 'debt']\n",
    "purpose_debt['share_of_debtors, %'] = (purpose_debt['debt']/(purpose_debt['no_debt'] + purpose_debt['debt'])*100).round(2)\n",
    "purpose_debt"
   ]
  },
  {
   "cell_type": "markdown",
   "id": "cf05ed63",
   "metadata": {
    "id": "cf05ed63"
   },
   "source": [
    "**Вывод:** Самые \"рисковые\" группы клиентов те, которые берут кредит на автомобиль или образование. Вероятность наличия просрочек по платежам у клиентов, берущих займ для проведения свадьбы и операций с недвижимостью ниже примерно на 1,5% и 2% соответственно."
   ]
  },
  {
   "cell_type": "markdown",
   "id": "57bc304e",
   "metadata": {
    "id": "57bc304e"
   },
   "source": [
    "### Общий вывод."
   ]
  },
  {
   "cell_type": "markdown",
   "id": "1ab75d1c",
   "metadata": {
    "id": "1ab75d1c"
   },
   "source": [
    "**Исходные данные:** таблица с общим количеством строк 21525.\n",
    "\n",
    "В ходе предобработки данных выявлено 2174 строки с пропущенными данными в столбцах с трудовым стажем и общим доходом. Пропуски обусловлены техническими ошибками или человеческим фактором. Пропущенные значения были заполнены медианными значениями для каждого типа занятости.\n",
    "\n",
    "**В ходе исследования данных были выявлены следующие зависимости:**\n",
    "\n",
    "* Клиенты банка не иеющие детей реже имеют задолженности (7,5% против 9,2%)\n",
    "* Вдовцы и разведенные клиенты реже имеют задолженности (6,6% и 7,1% соответственно), чем холостые и люди, живущие в гражданском браке (9,8% и 9,3%). Семейные люди имеют задолженности немного чаще (7,6%), чем вдовцы и разведенные.\n",
    "* Заемщики с более высоким доходом реже становятся должниками. Для сравнения были выделены группы с доходом от 50 т.р. до 200 т.р (8,5%) и от 200 т.р до 1 млн.р. (7,1%)\n",
    "* Реже становятся должниками люди, берущие кредит на операции с недвижимостью (7,3%) и проведение свадьбы (7,9%). Чаще - на операции с автомобилем (9,4%) и получение образования (9,25%)"
   ]
  }
 ],
 "metadata": {
  "ExecuteTimeLog": [
   {
    "duration": 51,
    "start_time": "2023-10-21T20:56:58.838Z"
   },
   {
    "duration": 530,
    "start_time": "2023-10-21T20:57:17.618Z"
   },
   {
    "duration": 25,
    "start_time": "2023-10-21T20:57:18.150Z"
   },
   {
    "duration": 18,
    "start_time": "2023-10-21T20:57:18.177Z"
   },
   {
    "duration": 10,
    "start_time": "2023-10-21T20:57:18.197Z"
   },
   {
    "duration": 62,
    "start_time": "2023-10-21T20:57:18.210Z"
   },
   {
    "duration": 3,
    "start_time": "2023-10-21T20:57:18.274Z"
   },
   {
    "duration": 14,
    "start_time": "2023-10-21T20:57:18.279Z"
   },
   {
    "duration": 5,
    "start_time": "2023-10-21T20:57:18.294Z"
   },
   {
    "duration": 8,
    "start_time": "2023-10-21T20:57:18.301Z"
   },
   {
    "duration": 34,
    "start_time": "2023-10-21T20:57:18.311Z"
   },
   {
    "duration": 45,
    "start_time": "2023-10-21T20:57:18.347Z"
   },
   {
    "duration": 11,
    "start_time": "2023-10-21T20:57:18.394Z"
   },
   {
    "duration": 7,
    "start_time": "2023-10-21T20:57:18.407Z"
   },
   {
    "duration": 38,
    "start_time": "2023-10-21T20:57:18.416Z"
   },
   {
    "duration": 22,
    "start_time": "2023-10-21T20:57:18.455Z"
   },
   {
    "duration": 18,
    "start_time": "2023-10-21T20:57:18.479Z"
   },
   {
    "duration": 7,
    "start_time": "2023-10-21T20:57:18.499Z"
   },
   {
    "duration": 37,
    "start_time": "2023-10-21T20:57:18.508Z"
   },
   {
    "duration": 7,
    "start_time": "2023-10-21T20:57:18.547Z"
   },
   {
    "duration": 4,
    "start_time": "2023-10-21T20:57:18.555Z"
   },
   {
    "duration": 13,
    "start_time": "2023-10-21T20:57:18.561Z"
   },
   {
    "duration": 7,
    "start_time": "2023-10-21T20:57:18.576Z"
   },
   {
    "duration": 3,
    "start_time": "2023-10-21T20:57:18.585Z"
   },
   {
    "duration": 3,
    "start_time": "2023-10-21T20:57:18.590Z"
   },
   {
    "duration": 3,
    "start_time": "2023-10-21T20:57:18.595Z"
   },
   {
    "duration": 6,
    "start_time": "2023-10-21T20:58:06.465Z"
   },
   {
    "duration": 7,
    "start_time": "2023-10-21T20:58:15.045Z"
   },
   {
    "duration": 7,
    "start_time": "2023-10-21T20:58:15.937Z"
   },
   {
    "duration": 6,
    "start_time": "2023-10-21T20:58:16.697Z"
   },
   {
    "duration": 6,
    "start_time": "2023-10-21T20:58:20.649Z"
   },
   {
    "duration": 7,
    "start_time": "2023-10-21T20:58:24.167Z"
   },
   {
    "duration": 6,
    "start_time": "2023-10-21T20:58:56.565Z"
   },
   {
    "duration": 12,
    "start_time": "2023-10-22T16:23:34.612Z"
   },
   {
    "duration": 723,
    "start_time": "2023-10-22T16:23:41.360Z"
   },
   {
    "duration": 33,
    "start_time": "2023-10-22T16:23:42.086Z"
   },
   {
    "duration": 18,
    "start_time": "2023-10-22T16:23:42.121Z"
   },
   {
    "duration": 13,
    "start_time": "2023-10-22T16:23:42.142Z"
   },
   {
    "duration": 65,
    "start_time": "2023-10-22T16:23:42.156Z"
   },
   {
    "duration": 4,
    "start_time": "2023-10-22T16:23:42.223Z"
   },
   {
    "duration": 19,
    "start_time": "2023-10-22T16:23:42.228Z"
   },
   {
    "duration": 6,
    "start_time": "2023-10-22T16:23:42.249Z"
   },
   {
    "duration": 20,
    "start_time": "2023-10-22T16:23:42.257Z"
   },
   {
    "duration": 5,
    "start_time": "2023-10-22T16:23:42.282Z"
   },
   {
    "duration": 53,
    "start_time": "2023-10-22T16:23:42.288Z"
   },
   {
    "duration": 12,
    "start_time": "2023-10-22T16:23:42.343Z"
   },
   {
    "duration": 11,
    "start_time": "2023-10-22T16:23:42.356Z"
   },
   {
    "duration": 34,
    "start_time": "2023-10-22T16:23:42.370Z"
   },
   {
    "duration": 30,
    "start_time": "2023-10-22T16:23:42.407Z"
   },
   {
    "duration": 19,
    "start_time": "2023-10-22T16:23:42.438Z"
   },
   {
    "duration": 3,
    "start_time": "2023-10-22T16:23:42.460Z"
   },
   {
    "duration": 37,
    "start_time": "2023-10-22T16:23:42.465Z"
   },
   {
    "duration": 16,
    "start_time": "2023-10-22T16:23:42.504Z"
   },
   {
    "duration": 5,
    "start_time": "2023-10-22T16:23:42.522Z"
   },
   {
    "duration": 49,
    "start_time": "2023-10-22T16:23:42.529Z"
   },
   {
    "duration": 16,
    "start_time": "2023-10-22T16:23:42.580Z"
   },
   {
    "duration": 6,
    "start_time": "2023-10-22T16:23:42.598Z"
   },
   {
    "duration": 6,
    "start_time": "2023-10-22T16:23:42.606Z"
   },
   {
    "duration": 8,
    "start_time": "2023-10-22T16:23:42.614Z"
   },
   {
    "duration": 9,
    "start_time": "2023-10-22T16:23:42.624Z"
   },
   {
    "duration": 14,
    "start_time": "2023-10-22T16:25:26.489Z"
   },
   {
    "duration": 27,
    "start_time": "2023-10-22T16:25:39.703Z"
   },
   {
    "duration": 3,
    "start_time": "2023-10-22T16:26:06.693Z"
   },
   {
    "duration": 19,
    "start_time": "2023-10-22T16:26:08.321Z"
   },
   {
    "duration": 3,
    "start_time": "2023-10-22T16:26:37.036Z"
   },
   {
    "duration": 478,
    "start_time": "2023-10-22T16:26:38.539Z"
   },
   {
    "duration": 20,
    "start_time": "2023-10-22T16:28:17.993Z"
   },
   {
    "duration": 10,
    "start_time": "2023-10-22T16:29:02.445Z"
   },
   {
    "duration": 5,
    "start_time": "2023-10-22T16:29:35.071Z"
   },
   {
    "duration": 3,
    "start_time": "2023-10-22T16:30:14.909Z"
   },
   {
    "duration": 17,
    "start_time": "2023-10-22T16:30:31.733Z"
   },
   {
    "duration": 17,
    "start_time": "2023-10-22T16:30:55.148Z"
   },
   {
    "duration": 15,
    "start_time": "2023-10-22T16:31:16.951Z"
   },
   {
    "duration": 4,
    "start_time": "2023-10-22T16:31:33.260Z"
   },
   {
    "duration": 840,
    "start_time": "2023-10-22T16:31:34.583Z"
   },
   {
    "duration": 5,
    "start_time": "2023-10-22T16:34:32.472Z"
   },
   {
    "duration": 11,
    "start_time": "2023-10-22T16:34:34.506Z"
   },
   {
    "duration": 15,
    "start_time": "2023-10-22T16:34:45.461Z"
   },
   {
    "duration": 20,
    "start_time": "2023-10-22T16:40:05.504Z"
   },
   {
    "duration": 27,
    "start_time": "2023-10-22T16:42:20.258Z"
   },
   {
    "duration": 8,
    "start_time": "2023-10-22T16:42:35.453Z"
   },
   {
    "duration": 4,
    "start_time": "2023-10-22T16:43:05.298Z"
   },
   {
    "duration": 12,
    "start_time": "2023-10-22T16:43:07.170Z"
   },
   {
    "duration": 13,
    "start_time": "2023-10-22T16:46:34.926Z"
   },
   {
    "duration": 11,
    "start_time": "2023-10-22T16:46:38.995Z"
   },
   {
    "duration": 8,
    "start_time": "2023-10-22T16:46:56.299Z"
   },
   {
    "duration": 13,
    "start_time": "2023-10-22T16:47:13.068Z"
   },
   {
    "duration": 8,
    "start_time": "2023-10-22T16:47:22.104Z"
   },
   {
    "duration": 7,
    "start_time": "2023-10-22T16:47:29.206Z"
   },
   {
    "duration": 9,
    "start_time": "2023-10-22T16:47:46.765Z"
   },
   {
    "duration": 11,
    "start_time": "2023-10-22T16:47:52.913Z"
   },
   {
    "duration": 10,
    "start_time": "2023-10-22T16:48:01.556Z"
   },
   {
    "duration": 11,
    "start_time": "2023-10-22T16:48:11.604Z"
   },
   {
    "duration": 16,
    "start_time": "2023-10-22T16:48:27.533Z"
   },
   {
    "duration": 31,
    "start_time": "2023-10-22T16:48:33.734Z"
   },
   {
    "duration": 3,
    "start_time": "2023-10-22T16:48:53.265Z"
   },
   {
    "duration": 16,
    "start_time": "2023-10-22T16:48:55.305Z"
   },
   {
    "duration": 23,
    "start_time": "2023-10-22T16:49:05.220Z"
   },
   {
    "duration": 17,
    "start_time": "2023-10-22T16:49:12.973Z"
   },
   {
    "duration": 7,
    "start_time": "2023-10-22T16:49:31.754Z"
   },
   {
    "duration": 6,
    "start_time": "2023-10-22T16:49:53.793Z"
   },
   {
    "duration": 7,
    "start_time": "2023-10-22T16:50:33.041Z"
   },
   {
    "duration": 8,
    "start_time": "2023-10-22T16:51:03.621Z"
   },
   {
    "duration": 13,
    "start_time": "2023-10-22T17:04:15.085Z"
   },
   {
    "duration": 18,
    "start_time": "2023-10-22T17:05:16.879Z"
   },
   {
    "duration": 10,
    "start_time": "2023-10-22T17:06:34.818Z"
   },
   {
    "duration": 16,
    "start_time": "2023-10-22T17:07:14.598Z"
   },
   {
    "duration": 12,
    "start_time": "2023-10-22T17:08:19.278Z"
   },
   {
    "duration": 9,
    "start_time": "2023-10-22T17:10:10.849Z"
   },
   {
    "duration": 3,
    "start_time": "2023-10-22T17:10:45.745Z"
   },
   {
    "duration": 4,
    "start_time": "2023-10-22T17:10:58.678Z"
   },
   {
    "duration": 9,
    "start_time": "2023-10-22T17:12:37.391Z"
   },
   {
    "duration": 6,
    "start_time": "2023-10-22T17:12:52.481Z"
   },
   {
    "duration": 16,
    "start_time": "2023-10-22T17:13:22.192Z"
   },
   {
    "duration": 18,
    "start_time": "2023-10-22T17:16:14.560Z"
   },
   {
    "duration": 12,
    "start_time": "2023-10-22T17:17:27.259Z"
   },
   {
    "duration": 16,
    "start_time": "2023-10-22T17:17:57.994Z"
   },
   {
    "duration": 11,
    "start_time": "2023-10-22T17:28:45.355Z"
   },
   {
    "duration": 1120,
    "start_time": "2023-10-23T14:27:42.595Z"
   },
   {
    "duration": 22,
    "start_time": "2023-10-23T14:27:43.717Z"
   },
   {
    "duration": 15,
    "start_time": "2023-10-23T14:27:43.740Z"
   },
   {
    "duration": 10,
    "start_time": "2023-10-23T14:27:43.757Z"
   },
   {
    "duration": 55,
    "start_time": "2023-10-23T14:27:43.769Z"
   },
   {
    "duration": 4,
    "start_time": "2023-10-23T14:27:43.825Z"
   },
   {
    "duration": 26,
    "start_time": "2023-10-23T14:27:43.830Z"
   },
   {
    "duration": 4,
    "start_time": "2023-10-23T14:27:43.858Z"
   },
   {
    "duration": 32,
    "start_time": "2023-10-23T14:27:43.863Z"
   },
   {
    "duration": 9,
    "start_time": "2023-10-23T14:27:43.897Z"
   },
   {
    "duration": 35,
    "start_time": "2023-10-23T14:27:43.908Z"
   },
   {
    "duration": 10,
    "start_time": "2023-10-23T14:27:43.945Z"
   },
   {
    "duration": 4,
    "start_time": "2023-10-23T14:27:43.956Z"
   },
   {
    "duration": 12,
    "start_time": "2023-10-23T14:27:43.963Z"
   },
   {
    "duration": 25,
    "start_time": "2023-10-23T14:27:43.977Z"
   },
   {
    "duration": 33,
    "start_time": "2023-10-23T14:27:44.003Z"
   },
   {
    "duration": 4,
    "start_time": "2023-10-23T14:27:44.037Z"
   },
   {
    "duration": 12,
    "start_time": "2023-10-23T14:27:44.042Z"
   },
   {
    "duration": 7,
    "start_time": "2023-10-23T14:27:44.056Z"
   },
   {
    "duration": 3,
    "start_time": "2023-10-23T14:27:44.065Z"
   },
   {
    "duration": 28,
    "start_time": "2023-10-23T14:27:44.070Z"
   },
   {
    "duration": 7,
    "start_time": "2023-10-23T14:27:44.100Z"
   },
   {
    "duration": 7,
    "start_time": "2023-10-23T14:27:44.109Z"
   },
   {
    "duration": 14,
    "start_time": "2023-10-23T14:27:44.118Z"
   },
   {
    "duration": 12,
    "start_time": "2023-10-23T14:27:44.134Z"
   },
   {
    "duration": 3,
    "start_time": "2023-10-23T14:27:44.147Z"
   },
   {
    "duration": 7,
    "start_time": "2023-10-23T14:27:44.151Z"
   },
   {
    "duration": 10,
    "start_time": "2023-10-23T14:27:44.159Z"
   },
   {
    "duration": 13,
    "start_time": "2023-10-23T14:30:42.042Z"
   },
   {
    "duration": 108,
    "start_time": "2023-10-23T14:32:18.525Z"
   },
   {
    "duration": 65,
    "start_time": "2023-10-23T14:34:11.226Z"
   },
   {
    "duration": 12,
    "start_time": "2023-10-23T14:34:24.030Z"
   },
   {
    "duration": 20,
    "start_time": "2023-10-23T14:34:39.920Z"
   },
   {
    "duration": 21,
    "start_time": "2023-10-23T14:35:50.388Z"
   },
   {
    "duration": 14,
    "start_time": "2023-10-23T14:37:18.858Z"
   },
   {
    "duration": 24,
    "start_time": "2023-10-23T14:38:32.091Z"
   },
   {
    "duration": 442,
    "start_time": "2023-10-23T15:41:21.170Z"
   },
   {
    "duration": 20,
    "start_time": "2023-10-23T15:41:21.614Z"
   },
   {
    "duration": 16,
    "start_time": "2023-10-23T15:41:21.636Z"
   },
   {
    "duration": 10,
    "start_time": "2023-10-23T15:41:21.653Z"
   },
   {
    "duration": 34,
    "start_time": "2023-10-23T15:41:21.664Z"
   },
   {
    "duration": 25,
    "start_time": "2023-10-23T15:41:21.700Z"
   },
   {
    "duration": 10,
    "start_time": "2023-10-23T15:41:21.727Z"
   },
   {
    "duration": 4,
    "start_time": "2023-10-23T15:41:21.738Z"
   },
   {
    "duration": 7,
    "start_time": "2023-10-23T15:41:21.743Z"
   },
   {
    "duration": 5,
    "start_time": "2023-10-23T15:41:21.753Z"
   },
   {
    "duration": 35,
    "start_time": "2023-10-23T15:41:21.759Z"
   },
   {
    "duration": 38,
    "start_time": "2023-10-23T15:41:21.795Z"
   },
   {
    "duration": 4,
    "start_time": "2023-10-23T15:41:21.834Z"
   },
   {
    "duration": 11,
    "start_time": "2023-10-23T15:41:21.840Z"
   },
   {
    "duration": 17,
    "start_time": "2023-10-23T15:41:21.853Z"
   },
   {
    "duration": 17,
    "start_time": "2023-10-23T15:41:21.872Z"
   },
   {
    "duration": 4,
    "start_time": "2023-10-23T15:41:21.890Z"
   },
   {
    "duration": 11,
    "start_time": "2023-10-23T15:41:21.924Z"
   },
   {
    "duration": 10,
    "start_time": "2023-10-23T15:41:21.936Z"
   },
   {
    "duration": 4,
    "start_time": "2023-10-23T15:41:21.947Z"
   },
   {
    "duration": 13,
    "start_time": "2023-10-23T15:41:21.953Z"
   },
   {
    "duration": 18,
    "start_time": "2023-10-23T15:41:21.968Z"
   },
   {
    "duration": 5,
    "start_time": "2023-10-23T15:41:21.988Z"
   },
   {
    "duration": 31,
    "start_time": "2023-10-23T15:41:21.995Z"
   },
   {
    "duration": 12,
    "start_time": "2023-10-23T15:41:22.028Z"
   },
   {
    "duration": 25,
    "start_time": "2023-10-23T15:41:22.042Z"
   },
   {
    "duration": 2,
    "start_time": "2023-10-23T15:41:22.069Z"
   },
   {
    "duration": 49,
    "start_time": "2023-10-23T15:41:22.074Z"
   },
   {
    "duration": 17,
    "start_time": "2023-10-23T15:43:37.383Z"
   },
   {
    "duration": 4,
    "start_time": "2023-10-23T15:44:44.110Z"
   },
   {
    "duration": 10,
    "start_time": "2023-10-23T15:44:45.305Z"
   },
   {
    "duration": 13,
    "start_time": "2023-10-23T15:44:46.265Z"
   },
   {
    "duration": 26,
    "start_time": "2023-10-23T15:44:49.354Z"
   },
   {
    "duration": 18,
    "start_time": "2023-10-23T15:44:57.893Z"
   },
   {
    "duration": 466,
    "start_time": "2023-10-23T15:45:26.039Z"
   },
   {
    "duration": 22,
    "start_time": "2023-10-23T15:45:26.507Z"
   },
   {
    "duration": 87,
    "start_time": "2023-10-23T15:45:26.531Z"
   },
   {
    "duration": 102,
    "start_time": "2023-10-23T15:45:26.620Z"
   },
   {
    "duration": 66,
    "start_time": "2023-10-23T15:45:26.725Z"
   },
   {
    "duration": 17,
    "start_time": "2023-10-23T15:45:26.793Z"
   },
   {
    "duration": 127,
    "start_time": "2023-10-23T15:45:26.812Z"
   },
   {
    "duration": 46,
    "start_time": "2023-10-23T15:45:26.941Z"
   },
   {
    "duration": 152,
    "start_time": "2023-10-23T15:45:26.989Z"
   },
   {
    "duration": 142,
    "start_time": "2023-10-23T15:45:27.142Z"
   },
   {
    "duration": 88,
    "start_time": "2023-10-23T15:45:27.285Z"
   },
   {
    "duration": 108,
    "start_time": "2023-10-23T15:45:27.374Z"
   },
   {
    "duration": 48,
    "start_time": "2023-10-23T15:45:27.483Z"
   },
   {
    "duration": 93,
    "start_time": "2023-10-23T15:45:27.534Z"
   },
   {
    "duration": 93,
    "start_time": "2023-10-23T15:45:27.629Z"
   },
   {
    "duration": 67,
    "start_time": "2023-10-23T15:45:27.723Z"
   },
   {
    "duration": 60,
    "start_time": "2023-10-23T15:45:27.792Z"
   },
   {
    "duration": 76,
    "start_time": "2023-10-23T15:45:27.853Z"
   },
   {
    "duration": 84,
    "start_time": "2023-10-23T15:45:27.930Z"
   },
   {
    "duration": 70,
    "start_time": "2023-10-23T15:45:28.015Z"
   },
   {
    "duration": 54,
    "start_time": "2023-10-23T15:45:28.087Z"
   },
   {
    "duration": 40,
    "start_time": "2023-10-23T15:45:28.143Z"
   },
   {
    "duration": 43,
    "start_time": "2023-10-23T15:45:28.185Z"
   },
   {
    "duration": 34,
    "start_time": "2023-10-23T15:45:28.230Z"
   },
   {
    "duration": 71,
    "start_time": "2023-10-23T15:45:28.265Z"
   },
   {
    "duration": 67,
    "start_time": "2023-10-23T15:45:28.337Z"
   },
   {
    "duration": 48,
    "start_time": "2023-10-23T15:45:28.406Z"
   },
   {
    "duration": 25,
    "start_time": "2023-10-23T15:45:28.456Z"
   },
   {
    "duration": 25,
    "start_time": "2023-10-23T16:00:50.771Z"
   },
   {
    "duration": 32,
    "start_time": "2023-10-23T16:01:24.969Z"
   },
   {
    "duration": 37,
    "start_time": "2023-10-23T16:03:49.305Z"
   },
   {
    "duration": 9,
    "start_time": "2023-10-23T16:12:34.316Z"
   },
   {
    "duration": 13,
    "start_time": "2023-10-23T16:12:43.296Z"
   },
   {
    "duration": 32,
    "start_time": "2023-10-23T16:13:32.104Z"
   },
   {
    "duration": 91,
    "start_time": "2023-10-23T16:27:08.415Z"
   },
   {
    "duration": 39,
    "start_time": "2023-10-23T16:27:17.122Z"
   },
   {
    "duration": 37,
    "start_time": "2023-10-23T16:27:26.791Z"
   },
   {
    "duration": 35,
    "start_time": "2023-10-23T16:27:45.823Z"
   },
   {
    "duration": 38,
    "start_time": "2023-10-23T16:28:15.094Z"
   },
   {
    "duration": 36,
    "start_time": "2023-10-23T16:28:21.488Z"
   },
   {
    "duration": 36,
    "start_time": "2023-10-23T16:28:41.918Z"
   },
   {
    "duration": 35,
    "start_time": "2023-10-23T16:28:57.635Z"
   },
   {
    "duration": 32,
    "start_time": "2023-10-23T16:29:14.618Z"
   },
   {
    "duration": 32,
    "start_time": "2023-10-23T16:29:36.422Z"
   },
   {
    "duration": 35,
    "start_time": "2023-10-23T16:30:17.566Z"
   },
   {
    "duration": 39,
    "start_time": "2023-10-23T16:30:26.849Z"
   },
   {
    "duration": 39,
    "start_time": "2023-10-23T16:30:39.876Z"
   },
   {
    "duration": 45,
    "start_time": "2023-10-23T16:30:54.769Z"
   },
   {
    "duration": 6,
    "start_time": "2023-10-23T16:31:41.155Z"
   },
   {
    "duration": 462,
    "start_time": "2023-10-23T16:31:47.554Z"
   },
   {
    "duration": 21,
    "start_time": "2023-10-23T16:31:48.018Z"
   },
   {
    "duration": 8,
    "start_time": "2023-10-23T16:31:48.041Z"
   },
   {
    "duration": 10,
    "start_time": "2023-10-23T16:31:48.050Z"
   },
   {
    "duration": 53,
    "start_time": "2023-10-23T16:31:48.062Z"
   },
   {
    "duration": 3,
    "start_time": "2023-10-23T16:31:48.117Z"
   },
   {
    "duration": 11,
    "start_time": "2023-10-23T16:31:48.124Z"
   },
   {
    "duration": 4,
    "start_time": "2023-10-23T16:31:48.136Z"
   },
   {
    "duration": 18,
    "start_time": "2023-10-23T16:31:48.142Z"
   },
   {
    "duration": 6,
    "start_time": "2023-10-23T16:31:48.162Z"
   },
   {
    "duration": 40,
    "start_time": "2023-10-23T16:31:48.169Z"
   },
   {
    "duration": 18,
    "start_time": "2023-10-23T16:31:48.211Z"
   },
   {
    "duration": 11,
    "start_time": "2023-10-23T16:31:48.231Z"
   },
   {
    "duration": 12,
    "start_time": "2023-10-23T16:31:48.245Z"
   },
   {
    "duration": 22,
    "start_time": "2023-10-23T16:31:48.259Z"
   },
   {
    "duration": 41,
    "start_time": "2023-10-23T16:31:48.283Z"
   },
   {
    "duration": 3,
    "start_time": "2023-10-23T16:31:48.326Z"
   },
   {
    "duration": 16,
    "start_time": "2023-10-23T16:31:48.331Z"
   },
   {
    "duration": 14,
    "start_time": "2023-10-23T16:31:48.348Z"
   },
   {
    "duration": 3,
    "start_time": "2023-10-23T16:31:48.364Z"
   },
   {
    "duration": 23,
    "start_time": "2023-10-23T16:31:48.369Z"
   },
   {
    "duration": 15,
    "start_time": "2023-10-23T16:31:48.393Z"
   },
   {
    "duration": 4,
    "start_time": "2023-10-23T16:31:48.410Z"
   },
   {
    "duration": 17,
    "start_time": "2023-10-23T16:31:48.415Z"
   },
   {
    "duration": 12,
    "start_time": "2023-10-23T16:31:48.433Z"
   },
   {
    "duration": 23,
    "start_time": "2023-10-23T16:31:48.446Z"
   },
   {
    "duration": 54,
    "start_time": "2023-10-23T16:31:48.470Z"
   },
   {
    "duration": 30,
    "start_time": "2023-10-23T16:31:48.526Z"
   },
   {
    "duration": 13,
    "start_time": "2023-10-23T16:32:00.603Z"
   },
   {
    "duration": 532,
    "start_time": "2023-10-23T16:32:22.396Z"
   },
   {
    "duration": 24,
    "start_time": "2023-10-23T16:32:22.930Z"
   },
   {
    "duration": 23,
    "start_time": "2023-10-23T16:32:22.955Z"
   },
   {
    "duration": 11,
    "start_time": "2023-10-23T16:32:22.979Z"
   },
   {
    "duration": 57,
    "start_time": "2023-10-23T16:32:22.993Z"
   },
   {
    "duration": 3,
    "start_time": "2023-10-23T16:32:23.052Z"
   },
   {
    "duration": 25,
    "start_time": "2023-10-23T16:32:23.056Z"
   },
   {
    "duration": 12,
    "start_time": "2023-10-23T16:32:23.082Z"
   },
   {
    "duration": 23,
    "start_time": "2023-10-23T16:32:23.096Z"
   },
   {
    "duration": 8,
    "start_time": "2023-10-23T16:32:23.120Z"
   },
   {
    "duration": 47,
    "start_time": "2023-10-23T16:32:23.129Z"
   },
   {
    "duration": 11,
    "start_time": "2023-10-23T16:32:23.178Z"
   },
   {
    "duration": 5,
    "start_time": "2023-10-23T16:32:23.191Z"
   },
   {
    "duration": 26,
    "start_time": "2023-10-23T16:32:23.198Z"
   },
   {
    "duration": 20,
    "start_time": "2023-10-23T16:32:23.226Z"
   },
   {
    "duration": 18,
    "start_time": "2023-10-23T16:32:23.248Z"
   },
   {
    "duration": 4,
    "start_time": "2023-10-23T16:32:23.267Z"
   },
   {
    "duration": 19,
    "start_time": "2023-10-23T16:32:23.272Z"
   },
   {
    "duration": 20,
    "start_time": "2023-10-23T16:32:23.292Z"
   },
   {
    "duration": 4,
    "start_time": "2023-10-23T16:32:23.323Z"
   },
   {
    "duration": 34,
    "start_time": "2023-10-23T16:32:23.328Z"
   },
   {
    "duration": 38,
    "start_time": "2023-10-23T16:32:23.363Z"
   },
   {
    "duration": 17,
    "start_time": "2023-10-23T16:32:23.403Z"
   },
   {
    "duration": 18,
    "start_time": "2023-10-23T16:32:23.422Z"
   },
   {
    "duration": 31,
    "start_time": "2023-10-23T16:32:23.441Z"
   },
   {
    "duration": 42,
    "start_time": "2023-10-23T16:32:23.474Z"
   },
   {
    "duration": 34,
    "start_time": "2023-10-23T16:32:23.519Z"
   },
   {
    "duration": 30,
    "start_time": "2023-10-23T16:32:23.555Z"
   },
   {
    "duration": 494,
    "start_time": "2023-10-23T16:33:26.223Z"
   },
   {
    "duration": 22,
    "start_time": "2023-10-23T16:33:26.719Z"
   },
   {
    "duration": 9,
    "start_time": "2023-10-23T16:33:26.743Z"
   },
   {
    "duration": 52,
    "start_time": "2023-10-23T16:33:26.754Z"
   },
   {
    "duration": 85,
    "start_time": "2023-10-23T16:33:26.807Z"
   },
   {
    "duration": 4,
    "start_time": "2023-10-23T16:33:26.894Z"
   },
   {
    "duration": 40,
    "start_time": "2023-10-23T16:33:26.900Z"
   },
   {
    "duration": 16,
    "start_time": "2023-10-23T16:33:26.942Z"
   },
   {
    "duration": 25,
    "start_time": "2023-10-23T16:33:26.960Z"
   },
   {
    "duration": 16,
    "start_time": "2023-10-23T16:33:26.988Z"
   },
   {
    "duration": 46,
    "start_time": "2023-10-23T16:33:27.006Z"
   },
   {
    "duration": 11,
    "start_time": "2023-10-23T16:33:27.054Z"
   },
   {
    "duration": 61,
    "start_time": "2023-10-23T16:33:27.066Z"
   },
   {
    "duration": 73,
    "start_time": "2023-10-23T16:33:27.128Z"
   },
   {
    "duration": 50,
    "start_time": "2023-10-23T16:33:27.203Z"
   },
   {
    "duration": 20,
    "start_time": "2023-10-23T16:33:27.255Z"
   },
   {
    "duration": 46,
    "start_time": "2023-10-23T16:33:27.277Z"
   },
   {
    "duration": 29,
    "start_time": "2023-10-23T16:33:27.325Z"
   },
   {
    "duration": 43,
    "start_time": "2023-10-23T16:33:27.356Z"
   },
   {
    "duration": 33,
    "start_time": "2023-10-23T16:33:27.401Z"
   },
   {
    "duration": 62,
    "start_time": "2023-10-23T16:33:27.435Z"
   },
   {
    "duration": 9,
    "start_time": "2023-10-23T16:33:27.498Z"
   },
   {
    "duration": 14,
    "start_time": "2023-10-23T16:33:27.508Z"
   },
   {
    "duration": 20,
    "start_time": "2023-10-23T16:33:27.523Z"
   },
   {
    "duration": 12,
    "start_time": "2023-10-23T16:33:27.544Z"
   },
   {
    "duration": 24,
    "start_time": "2023-10-23T16:33:27.557Z"
   },
   {
    "duration": 44,
    "start_time": "2023-10-23T16:33:27.583Z"
   },
   {
    "duration": 31,
    "start_time": "2023-10-23T16:33:27.630Z"
   },
   {
    "duration": 751,
    "start_time": "2023-10-23T16:53:28.446Z"
   },
   {
    "duration": 31,
    "start_time": "2023-10-23T16:53:29.199Z"
   },
   {
    "duration": 2,
    "start_time": "2023-10-23T16:53:29.231Z"
   },
   {
    "duration": 15,
    "start_time": "2023-10-23T16:53:29.235Z"
   },
   {
    "duration": 66,
    "start_time": "2023-10-23T16:53:29.252Z"
   },
   {
    "duration": 4,
    "start_time": "2023-10-23T16:53:29.320Z"
   },
   {
    "duration": 17,
    "start_time": "2023-10-23T16:53:29.325Z"
   },
   {
    "duration": 5,
    "start_time": "2023-10-23T16:53:29.343Z"
   },
   {
    "duration": 7,
    "start_time": "2023-10-23T16:53:29.350Z"
   },
   {
    "duration": 6,
    "start_time": "2023-10-23T16:53:29.359Z"
   },
   {
    "duration": 82,
    "start_time": "2023-10-23T16:53:29.367Z"
   },
   {
    "duration": 11,
    "start_time": "2023-10-23T16:53:29.451Z"
   },
   {
    "duration": 6,
    "start_time": "2023-10-23T16:53:29.464Z"
   },
   {
    "duration": 43,
    "start_time": "2023-10-23T16:53:29.471Z"
   },
   {
    "duration": 27,
    "start_time": "2023-10-23T16:53:29.516Z"
   },
   {
    "duration": 17,
    "start_time": "2023-10-23T16:53:29.545Z"
   },
   {
    "duration": 4,
    "start_time": "2023-10-23T16:53:29.564Z"
   },
   {
    "duration": 19,
    "start_time": "2023-10-23T16:53:29.570Z"
   },
   {
    "duration": 12,
    "start_time": "2023-10-23T16:53:29.591Z"
   },
   {
    "duration": 14,
    "start_time": "2023-10-23T16:53:29.605Z"
   },
   {
    "duration": 41,
    "start_time": "2023-10-23T16:53:29.621Z"
   },
   {
    "duration": 5,
    "start_time": "2023-10-23T16:53:29.664Z"
   },
   {
    "duration": 10,
    "start_time": "2023-10-23T16:53:29.671Z"
   },
   {
    "duration": 37,
    "start_time": "2023-10-23T16:53:29.683Z"
   },
   {
    "duration": 29,
    "start_time": "2023-10-23T16:53:29.721Z"
   },
   {
    "duration": 25,
    "start_time": "2023-10-23T16:53:29.752Z"
   },
   {
    "duration": 46,
    "start_time": "2023-10-23T16:53:29.779Z"
   },
   {
    "duration": 32,
    "start_time": "2023-10-23T16:53:29.828Z"
   },
   {
    "duration": 50,
    "start_time": "2023-10-24T14:05:02.355Z"
   },
   {
    "duration": 10,
    "start_time": "2023-10-24T14:05:36.924Z"
   },
   {
    "duration": 11,
    "start_time": "2023-10-24T14:05:54.037Z"
   },
   {
    "duration": 8,
    "start_time": "2023-10-24T14:05:56.711Z"
   },
   {
    "duration": 1104,
    "start_time": "2023-10-24T14:06:11.689Z"
   },
   {
    "duration": 49,
    "start_time": "2023-10-24T14:06:12.796Z"
   },
   {
    "duration": 5,
    "start_time": "2023-10-24T14:06:12.851Z"
   },
   {
    "duration": 675,
    "start_time": "2023-10-24T14:06:12.859Z"
   },
   {
    "duration": 42,
    "start_time": "2023-10-24T14:06:13.537Z"
   },
   {
    "duration": 4,
    "start_time": "2023-10-24T14:06:13.581Z"
   },
   {
    "duration": 35,
    "start_time": "2023-10-24T14:06:13.587Z"
   },
   {
    "duration": 7,
    "start_time": "2023-10-24T14:06:13.629Z"
   },
   {
    "duration": 22,
    "start_time": "2023-10-24T14:06:13.638Z"
   },
   {
    "duration": 25,
    "start_time": "2023-10-24T14:06:13.663Z"
   },
   {
    "duration": 71,
    "start_time": "2023-10-24T14:06:13.690Z"
   },
   {
    "duration": 16,
    "start_time": "2023-10-24T14:06:13.763Z"
   },
   {
    "duration": 32,
    "start_time": "2023-10-24T14:06:13.781Z"
   },
   {
    "duration": 32,
    "start_time": "2023-10-24T14:06:13.816Z"
   },
   {
    "duration": 62,
    "start_time": "2023-10-24T14:06:13.851Z"
   },
   {
    "duration": 34,
    "start_time": "2023-10-24T14:06:13.915Z"
   },
   {
    "duration": 6,
    "start_time": "2023-10-24T14:06:13.951Z"
   },
   {
    "duration": 47,
    "start_time": "2023-10-24T14:06:13.959Z"
   },
   {
    "duration": 15,
    "start_time": "2023-10-24T14:06:14.008Z"
   },
   {
    "duration": 13,
    "start_time": "2023-10-24T14:06:14.025Z"
   },
   {
    "duration": 123,
    "start_time": "2023-10-24T14:06:14.040Z"
   },
   {
    "duration": 32,
    "start_time": "2023-10-24T14:06:14.165Z"
   },
   {
    "duration": 63,
    "start_time": "2023-10-24T14:06:14.199Z"
   },
   {
    "duration": 33,
    "start_time": "2023-10-24T14:06:14.263Z"
   },
   {
    "duration": 25,
    "start_time": "2023-10-24T14:06:14.298Z"
   },
   {
    "duration": 43,
    "start_time": "2023-10-24T14:06:14.325Z"
   },
   {
    "duration": 77,
    "start_time": "2023-10-24T14:06:14.371Z"
   },
   {
    "duration": 57,
    "start_time": "2023-10-24T14:06:14.451Z"
   },
   {
    "duration": 27,
    "start_time": "2023-10-24T14:06:44.564Z"
   },
   {
    "duration": 763,
    "start_time": "2023-10-25T16:13:27.277Z"
   },
   {
    "duration": 23,
    "start_time": "2023-10-25T16:13:28.044Z"
   },
   {
    "duration": 14,
    "start_time": "2023-10-25T16:13:28.068Z"
   },
   {
    "duration": 16,
    "start_time": "2023-10-25T16:13:28.083Z"
   },
   {
    "duration": 69,
    "start_time": "2023-10-25T16:13:28.101Z"
   },
   {
    "duration": 4,
    "start_time": "2023-10-25T16:13:28.171Z"
   },
   {
    "duration": 44,
    "start_time": "2023-10-25T16:13:28.176Z"
   },
   {
    "duration": 26,
    "start_time": "2023-10-25T16:13:28.222Z"
   },
   {
    "duration": 24,
    "start_time": "2023-10-25T16:13:28.249Z"
   },
   {
    "duration": 12,
    "start_time": "2023-10-25T16:13:28.275Z"
   },
   {
    "duration": 60,
    "start_time": "2023-10-25T16:13:28.289Z"
   },
   {
    "duration": 9,
    "start_time": "2023-10-25T16:13:28.351Z"
   },
   {
    "duration": 13,
    "start_time": "2023-10-25T16:13:28.362Z"
   },
   {
    "duration": 43,
    "start_time": "2023-10-25T16:13:28.377Z"
   },
   {
    "duration": 33,
    "start_time": "2023-10-25T16:13:28.421Z"
   },
   {
    "duration": 15,
    "start_time": "2023-10-25T16:13:28.456Z"
   },
   {
    "duration": 5,
    "start_time": "2023-10-25T16:13:28.473Z"
   },
   {
    "duration": 18,
    "start_time": "2023-10-25T16:13:28.479Z"
   },
   {
    "duration": 40,
    "start_time": "2023-10-25T16:13:28.498Z"
   },
   {
    "duration": 4,
    "start_time": "2023-10-25T16:13:28.546Z"
   },
   {
    "duration": 11,
    "start_time": "2023-10-25T16:13:28.552Z"
   },
   {
    "duration": 6,
    "start_time": "2023-10-25T16:13:28.565Z"
   },
   {
    "duration": 25,
    "start_time": "2023-10-25T16:13:28.573Z"
   },
   {
    "duration": 53,
    "start_time": "2023-10-25T16:13:28.599Z"
   },
   {
    "duration": 21,
    "start_time": "2023-10-25T16:13:28.654Z"
   },
   {
    "duration": 46,
    "start_time": "2023-10-25T16:13:28.676Z"
   },
   {
    "duration": 55,
    "start_time": "2023-10-25T16:13:28.724Z"
   },
   {
    "duration": 34,
    "start_time": "2023-10-25T16:13:28.781Z"
   },
   {
    "duration": 93,
    "start_time": "2023-10-25T16:29:41.679Z"
   },
   {
    "duration": 15,
    "start_time": "2023-10-25T16:30:37.166Z"
   },
   {
    "duration": 26,
    "start_time": "2023-10-25T16:30:50.791Z"
   },
   {
    "duration": 216,
    "start_time": "2023-10-25T16:45:36.605Z"
   },
   {
    "duration": 17,
    "start_time": "2023-10-25T16:45:52.686Z"
   },
   {
    "duration": 15,
    "start_time": "2023-10-25T16:47:24.284Z"
   },
   {
    "duration": 17,
    "start_time": "2023-10-25T16:47:38.636Z"
   },
   {
    "duration": 1270,
    "start_time": "2023-10-25T16:50:30.605Z"
   },
   {
    "duration": 18,
    "start_time": "2023-10-25T16:51:32.846Z"
   },
   {
    "duration": 946,
    "start_time": "2023-10-25T16:54:47.037Z"
   },
   {
    "duration": 18,
    "start_time": "2023-10-25T16:54:56.564Z"
   },
   {
    "duration": 20,
    "start_time": "2023-10-25T16:57:50.083Z"
   },
   {
    "duration": 1328,
    "start_time": "2023-10-25T16:58:29.583Z"
   },
   {
    "duration": 18,
    "start_time": "2023-10-25T16:58:54.169Z"
   },
   {
    "duration": 19,
    "start_time": "2023-10-25T16:59:01.744Z"
   },
   {
    "duration": 17,
    "start_time": "2023-10-25T16:59:13.118Z"
   },
   {
    "duration": 17,
    "start_time": "2023-10-25T16:59:20.183Z"
   },
   {
    "duration": 17,
    "start_time": "2023-10-25T16:59:34.537Z"
   },
   {
    "duration": 140,
    "start_time": "2023-10-25T17:00:30.123Z"
   },
   {
    "duration": 17,
    "start_time": "2023-10-25T17:00:32.948Z"
   },
   {
    "duration": 85,
    "start_time": "2023-10-25T17:01:17.596Z"
   },
   {
    "duration": 70,
    "start_time": "2023-10-25T17:01:25.681Z"
   },
   {
    "duration": 80,
    "start_time": "2023-10-25T17:02:54.583Z"
   },
   {
    "duration": 102,
    "start_time": "2023-10-25T17:03:29.792Z"
   },
   {
    "duration": 29,
    "start_time": "2023-10-25T17:05:30.191Z"
   },
   {
    "duration": 21,
    "start_time": "2023-10-25T17:05:44.645Z"
   },
   {
    "duration": 21,
    "start_time": "2023-10-25T17:05:57.399Z"
   },
   {
    "duration": 26,
    "start_time": "2023-10-25T17:06:46.107Z"
   },
   {
    "duration": 25,
    "start_time": "2023-10-25T17:06:49.996Z"
   },
   {
    "duration": 18,
    "start_time": "2023-10-25T17:07:04.677Z"
   },
   {
    "duration": 538,
    "start_time": "2023-10-25T17:16:55.822Z"
   },
   {
    "duration": 23,
    "start_time": "2023-10-25T17:16:56.362Z"
   },
   {
    "duration": 3,
    "start_time": "2023-10-25T17:16:56.386Z"
   },
   {
    "duration": 33,
    "start_time": "2023-10-25T17:16:56.392Z"
   },
   {
    "duration": 38,
    "start_time": "2023-10-25T17:16:56.426Z"
   },
   {
    "duration": 4,
    "start_time": "2023-10-25T17:16:56.466Z"
   },
   {
    "duration": 29,
    "start_time": "2023-10-25T17:16:56.472Z"
   },
   {
    "duration": 17,
    "start_time": "2023-10-25T17:16:56.503Z"
   },
   {
    "duration": 12,
    "start_time": "2023-10-25T17:16:56.521Z"
   },
   {
    "duration": 23,
    "start_time": "2023-10-25T17:16:56.535Z"
   },
   {
    "duration": 46,
    "start_time": "2023-10-25T17:16:56.559Z"
   },
   {
    "duration": 17,
    "start_time": "2023-10-25T17:16:56.611Z"
   },
   {
    "duration": 12,
    "start_time": "2023-10-25T17:16:56.629Z"
   },
   {
    "duration": 13,
    "start_time": "2023-10-25T17:16:56.642Z"
   },
   {
    "duration": 24,
    "start_time": "2023-10-25T17:16:56.657Z"
   },
   {
    "duration": 19,
    "start_time": "2023-10-25T17:16:56.683Z"
   },
   {
    "duration": 14,
    "start_time": "2023-10-25T17:16:56.703Z"
   },
   {
    "duration": 18,
    "start_time": "2023-10-25T17:16:56.719Z"
   },
   {
    "duration": 14,
    "start_time": "2023-10-25T17:16:56.738Z"
   },
   {
    "duration": 25,
    "start_time": "2023-10-25T17:16:56.754Z"
   },
   {
    "duration": 20,
    "start_time": "2023-10-25T17:16:56.781Z"
   },
   {
    "duration": 22,
    "start_time": "2023-10-25T17:16:56.803Z"
   },
   {
    "duration": 3,
    "start_time": "2023-10-25T17:16:56.827Z"
   },
   {
    "duration": 25,
    "start_time": "2023-10-25T17:16:56.831Z"
   },
   {
    "duration": 27,
    "start_time": "2023-10-25T17:16:56.857Z"
   },
   {
    "duration": 34,
    "start_time": "2023-10-25T17:16:56.885Z"
   },
   {
    "duration": 97,
    "start_time": "2023-10-25T17:16:56.921Z"
   },
   {
    "duration": 0,
    "start_time": "2023-10-25T17:16:57.020Z"
   },
   {
    "duration": 22,
    "start_time": "2023-10-25T17:17:36.963Z"
   },
   {
    "duration": 23,
    "start_time": "2023-10-25T17:17:55.953Z"
   },
   {
    "duration": 86,
    "start_time": "2023-10-25T17:21:16.875Z"
   },
   {
    "duration": 20,
    "start_time": "2023-10-25T17:21:41.633Z"
   },
   {
    "duration": 78,
    "start_time": "2023-10-25T17:21:54.034Z"
   },
   {
    "duration": 27,
    "start_time": "2023-10-25T17:22:19.793Z"
   },
   {
    "duration": 3,
    "start_time": "2023-10-25T17:28:46.420Z"
   },
   {
    "duration": 10,
    "start_time": "2023-10-25T17:28:47.622Z"
   },
   {
    "duration": 19,
    "start_time": "2023-10-25T17:28:48.584Z"
   },
   {
    "duration": 22,
    "start_time": "2023-10-25T17:49:19.684Z"
   },
   {
    "duration": 23,
    "start_time": "2023-10-25T17:50:25.449Z"
   },
   {
    "duration": 19,
    "start_time": "2023-10-25T17:50:34.650Z"
   },
   {
    "duration": 19,
    "start_time": "2023-10-25T17:50:42.096Z"
   },
   {
    "duration": 22,
    "start_time": "2023-10-25T17:53:38.968Z"
   },
   {
    "duration": 7,
    "start_time": "2023-10-25T17:59:47.033Z"
   },
   {
    "duration": 25,
    "start_time": "2023-10-25T18:03:13.815Z"
   },
   {
    "duration": 17,
    "start_time": "2023-10-25T18:09:11.150Z"
   },
   {
    "duration": 36,
    "start_time": "2023-10-25T18:11:03.102Z"
   },
   {
    "duration": 19,
    "start_time": "2023-10-25T18:13:28.659Z"
   },
   {
    "duration": 43,
    "start_time": "2023-10-25T18:13:41.596Z"
   },
   {
    "duration": 27,
    "start_time": "2023-10-25T18:13:48.733Z"
   },
   {
    "duration": 26,
    "start_time": "2023-10-25T18:13:52.101Z"
   },
   {
    "duration": 21,
    "start_time": "2023-10-25T18:14:39.997Z"
   },
   {
    "duration": 28,
    "start_time": "2023-10-25T18:16:22.002Z"
   },
   {
    "duration": 8,
    "start_time": "2023-10-25T18:22:13.997Z"
   },
   {
    "duration": 21,
    "start_time": "2023-10-25T18:24:17.377Z"
   },
   {
    "duration": 520,
    "start_time": "2023-10-25T18:27:58.305Z"
   },
   {
    "duration": 26,
    "start_time": "2023-10-25T18:27:58.826Z"
   },
   {
    "duration": 16,
    "start_time": "2023-10-25T18:27:58.853Z"
   },
   {
    "duration": 10,
    "start_time": "2023-10-25T18:27:58.871Z"
   },
   {
    "duration": 62,
    "start_time": "2023-10-25T18:27:58.883Z"
   },
   {
    "duration": 3,
    "start_time": "2023-10-25T18:27:58.947Z"
   },
   {
    "duration": 9,
    "start_time": "2023-10-25T18:27:58.952Z"
   },
   {
    "duration": 12,
    "start_time": "2023-10-25T18:27:58.962Z"
   },
   {
    "duration": 7,
    "start_time": "2023-10-25T18:27:58.976Z"
   },
   {
    "duration": 4,
    "start_time": "2023-10-25T18:27:58.985Z"
   },
   {
    "duration": 61,
    "start_time": "2023-10-25T18:27:58.991Z"
   },
   {
    "duration": 10,
    "start_time": "2023-10-25T18:27:59.054Z"
   },
   {
    "duration": 6,
    "start_time": "2023-10-25T18:27:59.065Z"
   },
   {
    "duration": 12,
    "start_time": "2023-10-25T18:27:59.073Z"
   },
   {
    "duration": 60,
    "start_time": "2023-10-25T18:27:59.086Z"
   },
   {
    "duration": 16,
    "start_time": "2023-10-25T18:27:59.147Z"
   },
   {
    "duration": 3,
    "start_time": "2023-10-25T18:27:59.165Z"
   },
   {
    "duration": 21,
    "start_time": "2023-10-25T18:27:59.169Z"
   },
   {
    "duration": 9,
    "start_time": "2023-10-25T18:27:59.191Z"
   },
   {
    "duration": 8,
    "start_time": "2023-10-25T18:27:59.206Z"
   },
   {
    "duration": 22,
    "start_time": "2023-10-25T18:27:59.216Z"
   },
   {
    "duration": 9,
    "start_time": "2023-10-25T18:27:59.240Z"
   },
   {
    "duration": 13,
    "start_time": "2023-10-25T18:27:59.251Z"
   },
   {
    "duration": 23,
    "start_time": "2023-10-25T18:27:59.266Z"
   },
   {
    "duration": 32,
    "start_time": "2023-10-25T18:27:59.291Z"
   },
   {
    "duration": 26,
    "start_time": "2023-10-25T18:27:59.325Z"
   },
   {
    "duration": 6,
    "start_time": "2023-10-25T18:27:59.352Z"
   },
   {
    "duration": 33,
    "start_time": "2023-10-25T18:27:59.362Z"
   },
   {
    "duration": 14,
    "start_time": "2023-10-25T18:27:59.397Z"
   },
   {
    "duration": 36,
    "start_time": "2023-10-25T18:27:59.413Z"
   },
   {
    "duration": 493,
    "start_time": "2023-10-25T18:49:57.882Z"
   },
   {
    "duration": 21,
    "start_time": "2023-10-25T18:49:58.377Z"
   },
   {
    "duration": 24,
    "start_time": "2023-10-25T18:49:58.399Z"
   },
   {
    "duration": 21,
    "start_time": "2023-10-25T18:49:58.427Z"
   },
   {
    "duration": 33,
    "start_time": "2023-10-25T18:49:58.450Z"
   },
   {
    "duration": 3,
    "start_time": "2023-10-25T18:49:58.485Z"
   },
   {
    "duration": 11,
    "start_time": "2023-10-25T18:49:58.489Z"
   },
   {
    "duration": 4,
    "start_time": "2023-10-25T18:49:58.501Z"
   },
   {
    "duration": 24,
    "start_time": "2023-10-25T18:49:58.508Z"
   },
   {
    "duration": 22,
    "start_time": "2023-10-25T18:49:58.534Z"
   },
   {
    "duration": 57,
    "start_time": "2023-10-25T18:49:58.558Z"
   },
   {
    "duration": 18,
    "start_time": "2023-10-25T18:49:58.617Z"
   },
   {
    "duration": 9,
    "start_time": "2023-10-25T18:49:58.636Z"
   },
   {
    "duration": 10,
    "start_time": "2023-10-25T18:49:58.648Z"
   },
   {
    "duration": 27,
    "start_time": "2023-10-25T18:49:58.659Z"
   },
   {
    "duration": 46,
    "start_time": "2023-10-25T18:49:58.687Z"
   },
   {
    "duration": 8,
    "start_time": "2023-10-25T18:49:58.735Z"
   },
   {
    "duration": 21,
    "start_time": "2023-10-25T18:49:58.744Z"
   },
   {
    "duration": 16,
    "start_time": "2023-10-25T18:49:58.767Z"
   },
   {
    "duration": 13,
    "start_time": "2023-10-25T18:49:58.784Z"
   },
   {
    "duration": 22,
    "start_time": "2023-10-25T18:49:58.798Z"
   },
   {
    "duration": 8,
    "start_time": "2023-10-25T18:49:58.826Z"
   },
   {
    "duration": 17,
    "start_time": "2023-10-25T18:49:58.835Z"
   },
   {
    "duration": 37,
    "start_time": "2023-10-25T18:49:58.853Z"
   },
   {
    "duration": 53,
    "start_time": "2023-10-25T18:49:58.892Z"
   },
   {
    "duration": 23,
    "start_time": "2023-10-25T18:49:58.947Z"
   },
   {
    "duration": 7,
    "start_time": "2023-10-25T18:49:58.971Z"
   },
   {
    "duration": 43,
    "start_time": "2023-10-25T18:49:58.979Z"
   },
   {
    "duration": 11,
    "start_time": "2023-10-25T18:49:59.026Z"
   },
   {
    "duration": 26,
    "start_time": "2023-10-25T18:49:59.039Z"
   },
   {
    "duration": 696,
    "start_time": "2023-10-25T19:57:18.011Z"
   },
   {
    "duration": 21,
    "start_time": "2023-10-25T19:57:18.709Z"
   },
   {
    "duration": 25,
    "start_time": "2023-10-25T19:57:18.732Z"
   },
   {
    "duration": 10,
    "start_time": "2023-10-25T19:57:18.759Z"
   },
   {
    "duration": 42,
    "start_time": "2023-10-25T19:57:18.771Z"
   },
   {
    "duration": 3,
    "start_time": "2023-10-25T19:57:18.814Z"
   },
   {
    "duration": 13,
    "start_time": "2023-10-25T19:57:18.819Z"
   },
   {
    "duration": 27,
    "start_time": "2023-10-25T19:57:18.833Z"
   },
   {
    "duration": 12,
    "start_time": "2023-10-25T19:57:18.861Z"
   },
   {
    "duration": 4,
    "start_time": "2023-10-25T19:57:18.877Z"
   },
   {
    "duration": 39,
    "start_time": "2023-10-25T19:57:18.883Z"
   },
   {
    "duration": 12,
    "start_time": "2023-10-25T19:57:18.923Z"
   },
   {
    "duration": 15,
    "start_time": "2023-10-25T19:57:18.946Z"
   },
   {
    "duration": 44,
    "start_time": "2023-10-25T19:57:18.963Z"
   },
   {
    "duration": 74,
    "start_time": "2023-10-25T19:57:19.008Z"
   },
   {
    "duration": 18,
    "start_time": "2023-10-25T19:57:19.084Z"
   },
   {
    "duration": 3,
    "start_time": "2023-10-25T19:57:19.104Z"
   },
   {
    "duration": 21,
    "start_time": "2023-10-25T19:57:19.108Z"
   },
   {
    "duration": 42,
    "start_time": "2023-10-25T19:57:19.131Z"
   },
   {
    "duration": 11,
    "start_time": "2023-10-25T19:57:19.174Z"
   },
   {
    "duration": 142,
    "start_time": "2023-10-25T19:57:19.187Z"
   },
   {
    "duration": 55,
    "start_time": "2023-10-25T19:57:19.330Z"
   },
   {
    "duration": 54,
    "start_time": "2023-10-25T19:57:19.387Z"
   },
   {
    "duration": 42,
    "start_time": "2023-10-25T19:57:19.445Z"
   },
   {
    "duration": 29,
    "start_time": "2023-10-25T19:57:19.488Z"
   },
   {
    "duration": 19,
    "start_time": "2023-10-25T19:57:19.519Z"
   },
   {
    "duration": 25,
    "start_time": "2023-10-25T19:57:19.539Z"
   },
   {
    "duration": 32,
    "start_time": "2023-10-25T19:57:19.567Z"
   },
   {
    "duration": 7,
    "start_time": "2023-10-25T19:57:19.601Z"
   },
   {
    "duration": 43,
    "start_time": "2023-10-25T19:57:19.609Z"
   },
   {
    "duration": 564,
    "start_time": "2023-11-06T16:31:38.141Z"
   },
   {
    "duration": 23,
    "start_time": "2023-11-06T16:31:38.706Z"
   },
   {
    "duration": 17,
    "start_time": "2023-11-06T16:31:38.731Z"
   },
   {
    "duration": 11,
    "start_time": "2023-11-06T16:31:38.749Z"
   },
   {
    "duration": 53,
    "start_time": "2023-11-06T16:31:38.762Z"
   },
   {
    "duration": 3,
    "start_time": "2023-11-06T16:31:38.817Z"
   },
   {
    "duration": 12,
    "start_time": "2023-11-06T16:31:38.822Z"
   },
   {
    "duration": 4,
    "start_time": "2023-11-06T16:31:38.835Z"
   },
   {
    "duration": 8,
    "start_time": "2023-11-06T16:31:38.841Z"
   },
   {
    "duration": 11,
    "start_time": "2023-11-06T16:31:38.850Z"
   },
   {
    "duration": 43,
    "start_time": "2023-11-06T16:31:38.868Z"
   },
   {
    "duration": 12,
    "start_time": "2023-11-06T16:31:38.912Z"
   },
   {
    "duration": 5,
    "start_time": "2023-11-06T16:31:38.927Z"
   },
   {
    "duration": 15,
    "start_time": "2023-11-06T16:31:38.934Z"
   },
   {
    "duration": 34,
    "start_time": "2023-11-06T16:31:38.951Z"
   },
   {
    "duration": 17,
    "start_time": "2023-11-06T16:31:38.986Z"
   },
   {
    "duration": 3,
    "start_time": "2023-11-06T16:31:39.005Z"
   },
   {
    "duration": 27,
    "start_time": "2023-11-06T16:31:39.009Z"
   },
   {
    "duration": 6,
    "start_time": "2023-11-06T16:31:39.037Z"
   },
   {
    "duration": 4,
    "start_time": "2023-11-06T16:31:39.044Z"
   },
   {
    "duration": 10,
    "start_time": "2023-11-06T16:31:39.069Z"
   },
   {
    "duration": 23,
    "start_time": "2023-11-06T16:31:39.080Z"
   },
   {
    "duration": 7,
    "start_time": "2023-11-06T16:31:39.104Z"
   },
   {
    "duration": 11,
    "start_time": "2023-11-06T16:31:39.113Z"
   },
   {
    "duration": 24,
    "start_time": "2023-11-06T16:31:39.126Z"
   },
   {
    "duration": 36,
    "start_time": "2023-11-06T16:31:39.152Z"
   },
   {
    "duration": 7,
    "start_time": "2023-11-06T16:31:39.190Z"
   },
   {
    "duration": 35,
    "start_time": "2023-11-06T16:31:39.199Z"
   },
   {
    "duration": 7,
    "start_time": "2023-11-06T16:31:39.236Z"
   },
   {
    "duration": 37,
    "start_time": "2023-11-06T16:31:39.244Z"
   },
   {
    "duration": 98,
    "start_time": "2023-11-06T16:32:14.199Z"
   },
   {
    "duration": 46,
    "start_time": "2023-11-06T16:32:22.299Z"
   },
   {
    "duration": 454,
    "start_time": "2023-11-06T16:32:45.203Z"
   },
   {
    "duration": 22,
    "start_time": "2023-11-06T16:32:48.398Z"
   },
   {
    "duration": 17,
    "start_time": "2023-11-06T16:32:51.291Z"
   },
   {
    "duration": 12,
    "start_time": "2023-11-06T16:32:54.120Z"
   },
   {
    "duration": 48,
    "start_time": "2023-11-06T16:32:57.360Z"
   },
   {
    "duration": 451,
    "start_time": "2023-11-06T16:33:15.221Z"
   },
   {
    "duration": 24,
    "start_time": "2023-11-06T16:33:15.673Z"
   },
   {
    "duration": 17,
    "start_time": "2023-11-06T16:33:15.698Z"
   },
   {
    "duration": 11,
    "start_time": "2023-11-06T16:33:15.717Z"
   },
   {
    "duration": 57,
    "start_time": "2023-11-06T16:33:15.730Z"
   },
   {
    "duration": 3,
    "start_time": "2023-11-06T16:33:15.789Z"
   },
   {
    "duration": 13,
    "start_time": "2023-11-06T16:33:15.794Z"
   },
   {
    "duration": 4,
    "start_time": "2023-11-06T16:33:15.808Z"
   },
   {
    "duration": 9,
    "start_time": "2023-11-06T16:33:15.813Z"
   },
   {
    "duration": 4,
    "start_time": "2023-11-06T16:33:15.823Z"
   },
   {
    "duration": 64,
    "start_time": "2023-11-06T16:33:15.829Z"
   },
   {
    "duration": 12,
    "start_time": "2023-11-06T16:33:15.894Z"
   },
   {
    "duration": 9,
    "start_time": "2023-11-06T16:33:15.907Z"
   },
   {
    "duration": 11,
    "start_time": "2023-11-06T16:33:15.920Z"
   },
   {
    "duration": 36,
    "start_time": "2023-11-06T16:33:15.933Z"
   },
   {
    "duration": 19,
    "start_time": "2023-11-06T16:33:15.971Z"
   },
   {
    "duration": 5,
    "start_time": "2023-11-06T16:33:15.992Z"
   },
   {
    "duration": 13,
    "start_time": "2023-11-06T16:33:15.998Z"
   },
   {
    "duration": 15,
    "start_time": "2023-11-06T16:33:16.012Z"
   },
   {
    "duration": 4,
    "start_time": "2023-11-06T16:33:16.028Z"
   },
   {
    "duration": 13,
    "start_time": "2023-11-06T16:33:16.034Z"
   },
   {
    "duration": 6,
    "start_time": "2023-11-06T16:33:16.068Z"
   },
   {
    "duration": 8,
    "start_time": "2023-11-06T16:33:16.076Z"
   },
   {
    "duration": 18,
    "start_time": "2023-11-06T16:33:16.085Z"
   },
   {
    "duration": 27,
    "start_time": "2023-11-06T16:33:16.105Z"
   },
   {
    "duration": 36,
    "start_time": "2023-11-06T16:33:16.133Z"
   },
   {
    "duration": 8,
    "start_time": "2023-11-06T16:33:16.170Z"
   },
   {
    "duration": 22,
    "start_time": "2023-11-06T16:33:16.179Z"
   },
   {
    "duration": 7,
    "start_time": "2023-11-06T16:33:16.202Z"
   },
   {
    "duration": 29,
    "start_time": "2023-11-06T16:33:16.211Z"
   }
  ],
  "colab": {
   "provenance": []
  },
  "kernelspec": {
   "display_name": "Python 3 (ipykernel)",
   "language": "python",
   "name": "python3"
  },
  "language_info": {
   "codemirror_mode": {
    "name": "ipython",
    "version": 3
   },
   "file_extension": ".py",
   "mimetype": "text/x-python",
   "name": "python",
   "nbconvert_exporter": "python",
   "pygments_lexer": "ipython3",
   "version": "3.11.4"
  },
  "toc": {
   "base_numbering": 1,
   "nav_menu": {},
   "number_sections": true,
   "sideBar": true,
   "skip_h1_title": true,
   "title_cell": "Table of Contents",
   "title_sidebar": "Contents",
   "toc_cell": false,
   "toc_position": {},
   "toc_section_display": true,
   "toc_window_display": false
  }
 },
 "nbformat": 4,
 "nbformat_minor": 5
}
